{
 "cells": [
  {
   "cell_type": "code",
   "execution_count": 2,
   "id": "ff9e2b83",
   "metadata": {},
   "outputs": [
    {
     "data": {
      "text/html": [
       "<pre style=\"white-space:pre;overflow-x:auto;line-height:normal;font-family:Menlo,'DejaVu Sans Mono',consolas,'Courier New',monospace\">Manim Community <span style=\"color: #008000\">v0.17.3</span>\n",
       "\n",
       "</pre>\n"
      ],
      "text/plain": [
       "<rich.jupyter.JupyterRenderable at 0x7f4db90f5030>"
      ]
     },
     "metadata": {},
     "output_type": "display_data"
    }
   ],
   "source": [
    "from manim import *"
   ]
  },
  {
   "cell_type": "code",
   "execution_count": 2,
   "id": "ec8514bf",
   "metadata": {},
   "outputs": [
    {
     "name": "stderr",
     "output_type": "stream",
     "text": [
      "                                                                                                                        \r"
     ]
    },
    {
     "ename": "IndexError",
     "evalue": "list index out of range",
     "output_type": "error",
     "traceback": [
      "\u001b[0;31m---------------------------------------------------------------------------\u001b[0m",
      "\u001b[0;31mIndexError\u001b[0m                                Traceback (most recent call last)",
      "\u001b[0;32m/tmp/ipykernel_1726/234886362.py\u001b[0m in \u001b[0;36m<module>\u001b[0;34m\u001b[0m\n\u001b[0;32m----> 1\u001b[0;31m \u001b[0mget_ipython\u001b[0m\u001b[0;34m(\u001b[0m\u001b[0;34m)\u001b[0m\u001b[0;34m.\u001b[0m\u001b[0mrun_cell_magic\u001b[0m\u001b[0;34m(\u001b[0m\u001b[0;34m'manim'\u001b[0m\u001b[0;34m,\u001b[0m \u001b[0;34m'-v WARNING --disable_caching ListAddition'\u001b[0m\u001b[0;34m,\u001b[0m \u001b[0;34m'class ListAddition(Scene):\\n    def construct(self):\\n        # Crear y mostrar las listas x e y\\n        x = [1, 2, 3, 4, 5]\\n        y = [10, 20, 30, 40, 50]\\n        x_group = self.create_list(x, \"x =\", ORANGE).to_edge(UP).shift(LEFT)\\n        y_group = self.create_list(y, \"y =\", BLUE).next_to(x_group, DOWN, buff=1.5)\\n        self.play(*[Write(group) for group in [x_group, y_group]])\\n        self.wait()\\n\\n        # Inicializar la lista resultado y mostrarla\\n        resultado = []\\n        resultado_group = self.create_list(resultado, \"resultado =\", GREEN).to_edge(DOWN)\\n        self.play(Write(resultado_group))\\n        self.wait()\\n\\n        # Realizar la adición elemento a elemento y actualizar la lista resultado\\n        for i in range(len(x)):\\n            xi_val = x_group[1][i].copy()\\n            yi_val = y_group[1][i].copy()\\n            result_val = Integer(x[i] + y[i]).set_color(GREEN)\\n            \\n            self.play(\\n                xi_val.animate.move_to(resultado_group[1][i].get_center()),\\n                yi_val.animate.move_to(resultado_group[1][i].get_center()),\\n                run_time=0.8,\\n            )\\n            self.play(Transform(xi_val, result_val))\\n            self.play(FadeOut(yi_val))\\n            \\n            resultado_group[1].add(result_val)\\n            resultado.append(x[i] + y[i])\\n\\n        self.wait()\\n\\n    def create_list(self, data, name, color):\\n        name_text = Tex(name, color=color)\\n        list_elements = VGroup(\\n            *[Integer(num).set_color(color) for num in data]\\n        ).arrange(RIGHT, buff=0.8)\\n        list_group = VGroup(name_text, list_elements).arrange(RIGHT, buff=0.5)\\n        return list_group\\n\\n'\u001b[0m\u001b[0;34m)\u001b[0m\u001b[0;34m\u001b[0m\u001b[0;34m\u001b[0m\u001b[0m\n\u001b[0m",
      "\u001b[0;32m/usr/lib/python3/dist-packages/IPython/core/interactiveshell.py\u001b[0m in \u001b[0;36mrun_cell_magic\u001b[0;34m(self, magic_name, line, cell)\u001b[0m\n\u001b[1;32m   2417\u001b[0m             \u001b[0;32mwith\u001b[0m \u001b[0mself\u001b[0m\u001b[0;34m.\u001b[0m\u001b[0mbuiltin_trap\u001b[0m\u001b[0;34m:\u001b[0m\u001b[0;34m\u001b[0m\u001b[0;34m\u001b[0m\u001b[0m\n\u001b[1;32m   2418\u001b[0m                 \u001b[0margs\u001b[0m \u001b[0;34m=\u001b[0m \u001b[0;34m(\u001b[0m\u001b[0mmagic_arg_s\u001b[0m\u001b[0;34m,\u001b[0m \u001b[0mcell\u001b[0m\u001b[0;34m)\u001b[0m\u001b[0;34m\u001b[0m\u001b[0;34m\u001b[0m\u001b[0m\n\u001b[0;32m-> 2419\u001b[0;31m                 \u001b[0mresult\u001b[0m \u001b[0;34m=\u001b[0m \u001b[0mfn\u001b[0m\u001b[0;34m(\u001b[0m\u001b[0;34m*\u001b[0m\u001b[0margs\u001b[0m\u001b[0;34m,\u001b[0m \u001b[0;34m**\u001b[0m\u001b[0mkwargs\u001b[0m\u001b[0;34m)\u001b[0m\u001b[0;34m\u001b[0m\u001b[0;34m\u001b[0m\u001b[0m\n\u001b[0m\u001b[1;32m   2420\u001b[0m             \u001b[0;32mreturn\u001b[0m \u001b[0mresult\u001b[0m\u001b[0;34m\u001b[0m\u001b[0;34m\u001b[0m\u001b[0m\n\u001b[1;32m   2421\u001b[0m \u001b[0;34m\u001b[0m\u001b[0m\n",
      "\u001b[0;32m~/.local/lib/python3.10/site-packages/decorator.py\u001b[0m in \u001b[0;36mfun\u001b[0;34m(*args, **kw)\u001b[0m\n\u001b[1;32m    230\u001b[0m             \u001b[0;32mif\u001b[0m \u001b[0;32mnot\u001b[0m \u001b[0mkwsyntax\u001b[0m\u001b[0;34m:\u001b[0m\u001b[0;34m\u001b[0m\u001b[0;34m\u001b[0m\u001b[0m\n\u001b[1;32m    231\u001b[0m                 \u001b[0margs\u001b[0m\u001b[0;34m,\u001b[0m \u001b[0mkw\u001b[0m \u001b[0;34m=\u001b[0m \u001b[0mfix\u001b[0m\u001b[0;34m(\u001b[0m\u001b[0margs\u001b[0m\u001b[0;34m,\u001b[0m \u001b[0mkw\u001b[0m\u001b[0;34m,\u001b[0m \u001b[0msig\u001b[0m\u001b[0;34m)\u001b[0m\u001b[0;34m\u001b[0m\u001b[0;34m\u001b[0m\u001b[0m\n\u001b[0;32m--> 232\u001b[0;31m             \u001b[0;32mreturn\u001b[0m \u001b[0mcaller\u001b[0m\u001b[0;34m(\u001b[0m\u001b[0mfunc\u001b[0m\u001b[0;34m,\u001b[0m \u001b[0;34m*\u001b[0m\u001b[0;34m(\u001b[0m\u001b[0mextras\u001b[0m \u001b[0;34m+\u001b[0m \u001b[0margs\u001b[0m\u001b[0;34m)\u001b[0m\u001b[0;34m,\u001b[0m \u001b[0;34m**\u001b[0m\u001b[0mkw\u001b[0m\u001b[0;34m)\u001b[0m\u001b[0;34m\u001b[0m\u001b[0;34m\u001b[0m\u001b[0m\n\u001b[0m\u001b[1;32m    233\u001b[0m     \u001b[0mfun\u001b[0m\u001b[0;34m.\u001b[0m\u001b[0m__name__\u001b[0m \u001b[0;34m=\u001b[0m \u001b[0mfunc\u001b[0m\u001b[0;34m.\u001b[0m\u001b[0m__name__\u001b[0m\u001b[0;34m\u001b[0m\u001b[0;34m\u001b[0m\u001b[0m\n\u001b[1;32m    234\u001b[0m     \u001b[0mfun\u001b[0m\u001b[0;34m.\u001b[0m\u001b[0m__doc__\u001b[0m \u001b[0;34m=\u001b[0m \u001b[0mfunc\u001b[0m\u001b[0;34m.\u001b[0m\u001b[0m__doc__\u001b[0m\u001b[0;34m\u001b[0m\u001b[0;34m\u001b[0m\u001b[0m\n",
      "\u001b[0;32m/usr/lib/python3/dist-packages/IPython/core/magic.py\u001b[0m in \u001b[0;36m<lambda>\u001b[0;34m(f, *a, **k)\u001b[0m\n\u001b[1;32m    185\u001b[0m     \u001b[0;31m# but it's overkill for just that one bit of state.\u001b[0m\u001b[0;34m\u001b[0m\u001b[0;34m\u001b[0m\u001b[0m\n\u001b[1;32m    186\u001b[0m     \u001b[0;32mdef\u001b[0m \u001b[0mmagic_deco\u001b[0m\u001b[0;34m(\u001b[0m\u001b[0marg\u001b[0m\u001b[0;34m)\u001b[0m\u001b[0;34m:\u001b[0m\u001b[0;34m\u001b[0m\u001b[0;34m\u001b[0m\u001b[0m\n\u001b[0;32m--> 187\u001b[0;31m         \u001b[0mcall\u001b[0m \u001b[0;34m=\u001b[0m \u001b[0;32mlambda\u001b[0m \u001b[0mf\u001b[0m\u001b[0;34m,\u001b[0m \u001b[0;34m*\u001b[0m\u001b[0ma\u001b[0m\u001b[0;34m,\u001b[0m \u001b[0;34m**\u001b[0m\u001b[0mk\u001b[0m\u001b[0;34m:\u001b[0m \u001b[0mf\u001b[0m\u001b[0;34m(\u001b[0m\u001b[0;34m*\u001b[0m\u001b[0ma\u001b[0m\u001b[0;34m,\u001b[0m \u001b[0;34m**\u001b[0m\u001b[0mk\u001b[0m\u001b[0;34m)\u001b[0m\u001b[0;34m\u001b[0m\u001b[0;34m\u001b[0m\u001b[0m\n\u001b[0m\u001b[1;32m    188\u001b[0m \u001b[0;34m\u001b[0m\u001b[0m\n\u001b[1;32m    189\u001b[0m         \u001b[0;32mif\u001b[0m \u001b[0mcallable\u001b[0m\u001b[0;34m(\u001b[0m\u001b[0marg\u001b[0m\u001b[0;34m)\u001b[0m\u001b[0;34m:\u001b[0m\u001b[0;34m\u001b[0m\u001b[0;34m\u001b[0m\u001b[0m\n",
      "\u001b[0;32m~/.local/lib/python3.10/site-packages/manim/utils/ipython_magic.py\u001b[0m in \u001b[0;36mmanim\u001b[0;34m(self, line, cell, local_ns)\u001b[0m\n\u001b[1;32m    139\u001b[0m                     \u001b[0mSceneClass\u001b[0m \u001b[0;34m=\u001b[0m \u001b[0mlocal_ns\u001b[0m\u001b[0;34m[\u001b[0m\u001b[0mconfig\u001b[0m\u001b[0;34m[\u001b[0m\u001b[0;34m\"scene_names\"\u001b[0m\u001b[0;34m]\u001b[0m\u001b[0;34m[\u001b[0m\u001b[0;36m0\u001b[0m\u001b[0;34m]\u001b[0m\u001b[0;34m]\u001b[0m\u001b[0;34m\u001b[0m\u001b[0;34m\u001b[0m\u001b[0m\n\u001b[1;32m    140\u001b[0m                     \u001b[0mscene\u001b[0m \u001b[0;34m=\u001b[0m \u001b[0mSceneClass\u001b[0m\u001b[0;34m(\u001b[0m\u001b[0mrenderer\u001b[0m\u001b[0;34m=\u001b[0m\u001b[0mrenderer\u001b[0m\u001b[0;34m)\u001b[0m\u001b[0;34m\u001b[0m\u001b[0;34m\u001b[0m\u001b[0m\n\u001b[0;32m--> 141\u001b[0;31m                     \u001b[0mscene\u001b[0m\u001b[0;34m.\u001b[0m\u001b[0mrender\u001b[0m\u001b[0;34m(\u001b[0m\u001b[0;34m)\u001b[0m\u001b[0;34m\u001b[0m\u001b[0;34m\u001b[0m\u001b[0m\n\u001b[0m\u001b[1;32m    142\u001b[0m                 \u001b[0;32mfinally\u001b[0m\u001b[0;34m:\u001b[0m\u001b[0;34m\u001b[0m\u001b[0;34m\u001b[0m\u001b[0m\n\u001b[1;32m    143\u001b[0m                     \u001b[0;31m# Shader cache becomes invalid as the context is destroyed\u001b[0m\u001b[0;34m\u001b[0m\u001b[0;34m\u001b[0m\u001b[0m\n",
      "\u001b[0;32m~/.local/lib/python3.10/site-packages/manim/scene/scene.py\u001b[0m in \u001b[0;36mrender\u001b[0;34m(self, preview)\u001b[0m\n\u001b[1;32m    221\u001b[0m         \u001b[0mself\u001b[0m\u001b[0;34m.\u001b[0m\u001b[0msetup\u001b[0m\u001b[0;34m(\u001b[0m\u001b[0;34m)\u001b[0m\u001b[0;34m\u001b[0m\u001b[0;34m\u001b[0m\u001b[0m\n\u001b[1;32m    222\u001b[0m         \u001b[0;32mtry\u001b[0m\u001b[0;34m:\u001b[0m\u001b[0;34m\u001b[0m\u001b[0;34m\u001b[0m\u001b[0m\n\u001b[0;32m--> 223\u001b[0;31m             \u001b[0mself\u001b[0m\u001b[0;34m.\u001b[0m\u001b[0mconstruct\u001b[0m\u001b[0;34m(\u001b[0m\u001b[0;34m)\u001b[0m\u001b[0;34m\u001b[0m\u001b[0;34m\u001b[0m\u001b[0m\n\u001b[0m\u001b[1;32m    224\u001b[0m         \u001b[0;32mexcept\u001b[0m \u001b[0mEndSceneEarlyException\u001b[0m\u001b[0;34m:\u001b[0m\u001b[0;34m\u001b[0m\u001b[0;34m\u001b[0m\u001b[0m\n\u001b[1;32m    225\u001b[0m             \u001b[0;32mpass\u001b[0m\u001b[0;34m\u001b[0m\u001b[0;34m\u001b[0m\u001b[0m\n",
      "\u001b[0;32m<string>\u001b[0m in \u001b[0;36mconstruct\u001b[0;34m(self)\u001b[0m\n",
      "\u001b[0;32m~/.local/lib/python3.10/site-packages/manim/mobject/mobject.py\u001b[0m in \u001b[0;36m__getitem__\u001b[0;34m(self, value)\u001b[0m\n\u001b[1;32m   2145\u001b[0m             \u001b[0mGroupClass\u001b[0m \u001b[0;34m=\u001b[0m \u001b[0mself\u001b[0m\u001b[0;34m.\u001b[0m\u001b[0mget_group_class\u001b[0m\u001b[0;34m(\u001b[0m\u001b[0;34m)\u001b[0m\u001b[0;34m\u001b[0m\u001b[0;34m\u001b[0m\u001b[0m\n\u001b[1;32m   2146\u001b[0m             \u001b[0;32mreturn\u001b[0m \u001b[0mGroupClass\u001b[0m\u001b[0;34m(\u001b[0m\u001b[0;34m*\u001b[0m\u001b[0mself_list\u001b[0m\u001b[0;34m.\u001b[0m\u001b[0m__getitem__\u001b[0m\u001b[0;34m(\u001b[0m\u001b[0mvalue\u001b[0m\u001b[0;34m)\u001b[0m\u001b[0;34m)\u001b[0m\u001b[0;34m\u001b[0m\u001b[0;34m\u001b[0m\u001b[0m\n\u001b[0;32m-> 2147\u001b[0;31m         \u001b[0;32mreturn\u001b[0m \u001b[0mself_list\u001b[0m\u001b[0;34m.\u001b[0m\u001b[0m__getitem__\u001b[0m\u001b[0;34m(\u001b[0m\u001b[0mvalue\u001b[0m\u001b[0;34m)\u001b[0m\u001b[0;34m\u001b[0m\u001b[0;34m\u001b[0m\u001b[0m\n\u001b[0m\u001b[1;32m   2148\u001b[0m \u001b[0;34m\u001b[0m\u001b[0m\n\u001b[1;32m   2149\u001b[0m     \u001b[0;32mdef\u001b[0m \u001b[0m__iter__\u001b[0m\u001b[0;34m(\u001b[0m\u001b[0mself\u001b[0m\u001b[0;34m)\u001b[0m\u001b[0;34m:\u001b[0m\u001b[0;34m\u001b[0m\u001b[0;34m\u001b[0m\u001b[0m\n",
      "\u001b[0;31mIndexError\u001b[0m: list index out of range"
     ]
    }
   ],
   "source": [
    "%%manim -v WARNING --disable_caching ListAddition\n",
    "class ListAddition(Scene):\n",
    "    def construct(self):\n",
    "        # Crear y mostrar las listas x e y\n",
    "        x = [1, 2, 3, 4, 5]\n",
    "        y = [10, 20, 30, 40, 50]\n",
    "        x_group = self.create_list(x, \"x =\", ORANGE).to_edge(UP).shift(LEFT)\n",
    "        y_group = self.create_list(y, \"y =\", BLUE).next_to(x_group, DOWN, buff=1.5)\n",
    "        self.play(*[Write(group) for group in [x_group, y_group]])\n",
    "        self.wait()\n",
    "\n",
    "        # Inicializar la lista resultado y mostrarla\n",
    "        resultado = []\n",
    "        resultado_group = self.create_list(resultado, \"resultado =\", GREEN).to_edge(DOWN)\n",
    "        self.play(Write(resultado_group))\n",
    "        self.wait()\n",
    "\n",
    "        # Realizar la adición elemento a elemento y actualizar la lista resultado\n",
    "        for i in range(len(x)):\n",
    "            xi_val = x_group[1][i].copy()\n",
    "            yi_val = y_group[1][i].copy()\n",
    "            result_val = Integer(x[i] + y[i]).set_color(GREEN)\n",
    "            \n",
    "            self.play(\n",
    "                xi_val.animate.move_to(resultado_group[1][i].get_center()),\n",
    "                yi_val.animate.move_to(resultado_group[1][i].get_center()),\n",
    "                run_time=0.8,\n",
    "            )\n",
    "            self.play(Transform(xi_val, result_val))\n",
    "            self.play(FadeOut(yi_val))\n",
    "            \n",
    "            resultado_group[1].add(result_val)\n",
    "            resultado.append(x[i] + y[i])\n",
    "\n",
    "        self.wait()\n",
    "\n",
    "    def create_list(self, data, name, color):\n",
    "        name_text = Tex(name, color=color)\n",
    "        list_elements = VGroup(\n",
    "            *[Integer(num).set_color(color) for num in data]\n",
    "        ).arrange(RIGHT, buff=0.8)\n",
    "        list_group = VGroup(name_text, list_elements).arrange(RIGHT, buff=0.5)\n",
    "        return list_group\n",
    "\n"
   ]
  },
  {
   "cell_type": "code",
   "execution_count": 3,
   "id": "6096be2a",
   "metadata": {},
   "outputs": [
    {
     "name": "stderr",
     "output_type": "stream",
     "text": [
      "                                                                                                                        \r"
     ]
    },
    {
     "data": {
      "text/html": [
       "<video src=\"media/jupyter/ListAddition@2023-04-22@13-27-01.mp4\" controls autoplay loop style=\"max-width: 60%;\"  >\n",
       "      Your browser does not support the <code>video</code> element.\n",
       "    </video>"
      ],
      "text/plain": [
       "<IPython.core.display.Video object>"
      ]
     },
     "metadata": {},
     "output_type": "display_data"
    }
   ],
   "source": [
    "%%manim -v WARNING --disable_caching ListAddition\n",
    "\n",
    "class ListAddition(Scene):\n",
    "    def construct(self):\n",
    "        # Crear y mostrar las listas x e y\n",
    "        x = [1, 2, 3, 4, 5]\n",
    "        y = [10, 20, 30, 40, 50]\n",
    "        x_group = self.create_list(x, \"x =\", ORANGE).to_edge(UP).shift(LEFT)\n",
    "        y_group = self.create_list(y, \"y =\", BLUE).next_to(x_group, DOWN, buff=1.5)\n",
    "        self.play(*[Write(group) for group in [x_group, y_group]])\n",
    "        self.wait()\n",
    "\n",
    "        # Inicializar la lista resultado y mostrarla\n",
    "        resultado = []\n",
    "        resultado_elements = VGroup(\n",
    "            *[Integer(0).set_color(GREEN).set_opacity(0) for _ in range(len(x))]\n",
    "        ).arrange(RIGHT, buff=0.8)\n",
    "        resultado_group = self.create_list(resultado_elements, \"resultado =\", GREEN).to_edge(DOWN)\n",
    "        self.play(Write(resultado_group))\n",
    "        self.wait()\n",
    "\n",
    "        # Realizar la adición elemento a elemento y actualizar la lista resultado\n",
    "        for i in range(len(x)):\n",
    "            xi_val = x_group[1][i].copy()\n",
    "            yi_val = y_group[1][i].copy()\n",
    "            result_val = Integer(x[i] + y[i]).set_color(GREEN)\n",
    "            \n",
    "            self.play(\n",
    "                xi_val.animate.move_to(resultado_group[1][i].get_center()),\n",
    "                yi_val.animate.move_to(resultado_group[1][i].get_center()),\n",
    "                run_time=0.8,\n",
    "            )\n",
    "            self.play(Transform(xi_val, result_val))\n",
    "            self.play(FadeOut(yi_val))\n",
    "            \n",
    "            resultado_group[1][i].set_opacity(1)\n",
    "            self.play(ReplacementTransform(xi_val, resultado_group[1][i]), run_time=0.1)\n",
    "            resultado.append(x[i] + y[i])\n",
    "\n",
    "        self.wait()\n",
    "\n",
    "    def create_list(self, data, name, color):\n",
    "        name_text = Tex(name, color=color)\n",
    "        if isinstance(data, VGroup):\n",
    "            list_elements = data\n",
    "        else:\n",
    "            list_elements = VGroup(\n",
    "                *[Integer(num).set_color(color) for num in data]\n",
    "            ).arrange(RIGHT, buff=0.8)\n",
    "        list_group = VGroup(name_text, list_elements).arrange(RIGHT, buff=0.5)\n",
    "        return list_group"
   ]
  },
  {
   "cell_type": "code",
   "execution_count": 8,
   "id": "fbbcbfe1",
   "metadata": {},
   "outputs": [
    {
     "name": "stderr",
     "output_type": "stream",
     "text": [
      "                                                                                                                        \r"
     ]
    },
    {
     "data": {
      "text/html": [
       "<video src=\"media/jupyter/ListAddition@2023-04-22@13-38-15.mp4\" controls autoplay loop style=\"max-width: 60%;\"  >\n",
       "      Your browser does not support the <code>video</code> element.\n",
       "    </video>"
      ],
      "text/plain": [
       "<IPython.core.display.Video object>"
      ]
     },
     "metadata": {},
     "output_type": "display_data"
    }
   ],
   "source": [
    "%%manim -v WARNING --disable_caching ListAddition\n",
    "class ListAddition(Scene):\n",
    "    def construct(self):\n",
    "        # Crear y mostrar las listas x e y\n",
    "        x = [1, 2, 3, 4, 5]\n",
    "        y = [10, 20, 30, 40, 50]\n",
    "        x_group = self.create_list(x, \"x =\", ORANGE).to_edge(UP).shift(LEFT)\n",
    "        y_group = self.create_list(y, \"y =\", BLUE).next_to(x_group, DOWN, buff=1.5)\n",
    "        self.play(*[Write(group) for group in [x_group, y_group]])\n",
    "        self.wait()\n",
    "\n",
    "        # Inicializar la lista resultado y mostrarla\n",
    "        resultado = []\n",
    "        resultado_group = self.create_list([0]*len(x), \"resultado =\", GREEN).to_edge(DOWN)\n",
    "        self.play(Write(resultado_group))\n",
    "        self.wait()\n",
    "\n",
    "\n",
    "\n",
    "        self.wait()\n",
    "\n",
    "    def create_list(self, data, name, color):\n",
    "        name_text = Tex(name, color=color)\n",
    "        list_elements = VGroup(\n",
    "            *[Integer(num).set_color(color) for num in data]\n",
    "        ).arrange(RIGHT, buff=0.8)\n",
    "        list_boxes = VGroup(\n",
    "            *[SurroundingRectangle(element, buff=0.2) for element in list_elements]\n",
    "        )\n",
    "        list_group = VGroup(name_text, list_elements).arrange(RIGHT, buff=0.5)\n",
    "        list_group.add_to_back(list_boxes)\n",
    "        return list_group"
   ]
  },
  {
   "cell_type": "code",
   "execution_count": 7,
   "id": "5882f5c8",
   "metadata": {},
   "outputs": [
    {
     "name": "stderr",
     "output_type": "stream",
     "text": [
      "                                                                                                                        \r"
     ]
    },
    {
     "ename": "IndexError",
     "evalue": "list index out of range",
     "output_type": "error",
     "traceback": [
      "\u001b[0;31m---------------------------------------------------------------------------\u001b[0m",
      "\u001b[0;31mIndexError\u001b[0m                                Traceback (most recent call last)",
      "\u001b[0;32m/tmp/ipykernel_1726/2794564820.py\u001b[0m in \u001b[0;36m<module>\u001b[0;34m\u001b[0m\n\u001b[0;32m----> 1\u001b[0;31m \u001b[0mget_ipython\u001b[0m\u001b[0;34m(\u001b[0m\u001b[0;34m)\u001b[0m\u001b[0;34m.\u001b[0m\u001b[0mrun_cell_magic\u001b[0m\u001b[0;34m(\u001b[0m\u001b[0;34m'manim'\u001b[0m\u001b[0;34m,\u001b[0m \u001b[0;34m'-v WARNING --disable_caching ListAddition'\u001b[0m\u001b[0;34m,\u001b[0m \u001b[0;34m'class ListAddition(Scene):\\n    def construct(self):\\n        # Crear y mostrar las listas x e y\\n        x = [1, 2, 3, 4, 5]\\n        y = [10, 20, 30, 40, 50]\\n        x_group = self.create_list(x, \"x =\", ORANGE).to_edge(UP).shift(LEFT)\\n        y_group = self.create_list(y, \"y =\", BLUE).next_to(x_group, DOWN, buff=1.5)\\n        self.play(*[Write(group) for group in [x_group, y_group]])\\n        self.wait()\\n\\n        # Inicializar la lista resultado y mostrarla\\n        resultado = [0]*len(x)\\n        resultado_group = self.create_list(resultado, \"resultado =\", GREEN).to_edge(DOWN)\\n        self.play(Write(resultado_group))\\n        self.wait()\\n\\n        # Realizar la adición elemento a elemento y actualizar la lista resultado\\n        for i in range(len(x)):\\n            xi_val = x_group[1][i].copy()\\n            yi_val = y_group[1][i].copy()\\n            result_val = Integer(x[i] + y[i]).set_color(GREEN)\\n            \\n            self.play(\\n                xi_val.animate.move_to(resultado_group[1][i].get_center()),\\n                yi_val.animate.move_to(resultado_group[1][i].get_center()),\\n                run_time=0.8,\\n            )\\n            self.play(Transform(xi_val, result_val))\\n            self.play(FadeOut(yi_val))\\n            \\n            self.play(ReplacementTransform(xi_val, resultado_group[1][i]), run_time=0.1)\\n\\n        self.wait()\\n\\n    def create_list(self, data, name, color):\\n        name_text = Tex(name, color=color)\\n        list_elements = VGroup(\\n            *[Integer(num).set_color(color) for num in data]\\n        ).arrange(RIGHT, buff=0.8)\\n        list_boxes = VGroup(\\n            *[SurroundingRectangle(element, buff=0.2) for element in list_elements]\\n        )\\n        list_group = VGroup(name_text, list_elements).arrange(RIGHT, buff=0.5)\\n        list_group.add_to_back(list_boxes)\\n        return list_group\\n'\u001b[0m\u001b[0;34m)\u001b[0m\u001b[0;34m\u001b[0m\u001b[0;34m\u001b[0m\u001b[0m\n\u001b[0m",
      "\u001b[0;32m/usr/lib/python3/dist-packages/IPython/core/interactiveshell.py\u001b[0m in \u001b[0;36mrun_cell_magic\u001b[0;34m(self, magic_name, line, cell)\u001b[0m\n\u001b[1;32m   2417\u001b[0m             \u001b[0;32mwith\u001b[0m \u001b[0mself\u001b[0m\u001b[0;34m.\u001b[0m\u001b[0mbuiltin_trap\u001b[0m\u001b[0;34m:\u001b[0m\u001b[0;34m\u001b[0m\u001b[0;34m\u001b[0m\u001b[0m\n\u001b[1;32m   2418\u001b[0m                 \u001b[0margs\u001b[0m \u001b[0;34m=\u001b[0m \u001b[0;34m(\u001b[0m\u001b[0mmagic_arg_s\u001b[0m\u001b[0;34m,\u001b[0m \u001b[0mcell\u001b[0m\u001b[0;34m)\u001b[0m\u001b[0;34m\u001b[0m\u001b[0;34m\u001b[0m\u001b[0m\n\u001b[0;32m-> 2419\u001b[0;31m                 \u001b[0mresult\u001b[0m \u001b[0;34m=\u001b[0m \u001b[0mfn\u001b[0m\u001b[0;34m(\u001b[0m\u001b[0;34m*\u001b[0m\u001b[0margs\u001b[0m\u001b[0;34m,\u001b[0m \u001b[0;34m**\u001b[0m\u001b[0mkwargs\u001b[0m\u001b[0;34m)\u001b[0m\u001b[0;34m\u001b[0m\u001b[0;34m\u001b[0m\u001b[0m\n\u001b[0m\u001b[1;32m   2420\u001b[0m             \u001b[0;32mreturn\u001b[0m \u001b[0mresult\u001b[0m\u001b[0;34m\u001b[0m\u001b[0;34m\u001b[0m\u001b[0m\n\u001b[1;32m   2421\u001b[0m \u001b[0;34m\u001b[0m\u001b[0m\n",
      "\u001b[0;32m~/.local/lib/python3.10/site-packages/decorator.py\u001b[0m in \u001b[0;36mfun\u001b[0;34m(*args, **kw)\u001b[0m\n\u001b[1;32m    230\u001b[0m             \u001b[0;32mif\u001b[0m \u001b[0;32mnot\u001b[0m \u001b[0mkwsyntax\u001b[0m\u001b[0;34m:\u001b[0m\u001b[0;34m\u001b[0m\u001b[0;34m\u001b[0m\u001b[0m\n\u001b[1;32m    231\u001b[0m                 \u001b[0margs\u001b[0m\u001b[0;34m,\u001b[0m \u001b[0mkw\u001b[0m \u001b[0;34m=\u001b[0m \u001b[0mfix\u001b[0m\u001b[0;34m(\u001b[0m\u001b[0margs\u001b[0m\u001b[0;34m,\u001b[0m \u001b[0mkw\u001b[0m\u001b[0;34m,\u001b[0m \u001b[0msig\u001b[0m\u001b[0;34m)\u001b[0m\u001b[0;34m\u001b[0m\u001b[0;34m\u001b[0m\u001b[0m\n\u001b[0;32m--> 232\u001b[0;31m             \u001b[0;32mreturn\u001b[0m \u001b[0mcaller\u001b[0m\u001b[0;34m(\u001b[0m\u001b[0mfunc\u001b[0m\u001b[0;34m,\u001b[0m \u001b[0;34m*\u001b[0m\u001b[0;34m(\u001b[0m\u001b[0mextras\u001b[0m \u001b[0;34m+\u001b[0m \u001b[0margs\u001b[0m\u001b[0;34m)\u001b[0m\u001b[0;34m,\u001b[0m \u001b[0;34m**\u001b[0m\u001b[0mkw\u001b[0m\u001b[0;34m)\u001b[0m\u001b[0;34m\u001b[0m\u001b[0;34m\u001b[0m\u001b[0m\n\u001b[0m\u001b[1;32m    233\u001b[0m     \u001b[0mfun\u001b[0m\u001b[0;34m.\u001b[0m\u001b[0m__name__\u001b[0m \u001b[0;34m=\u001b[0m \u001b[0mfunc\u001b[0m\u001b[0;34m.\u001b[0m\u001b[0m__name__\u001b[0m\u001b[0;34m\u001b[0m\u001b[0;34m\u001b[0m\u001b[0m\n\u001b[1;32m    234\u001b[0m     \u001b[0mfun\u001b[0m\u001b[0;34m.\u001b[0m\u001b[0m__doc__\u001b[0m \u001b[0;34m=\u001b[0m \u001b[0mfunc\u001b[0m\u001b[0;34m.\u001b[0m\u001b[0m__doc__\u001b[0m\u001b[0;34m\u001b[0m\u001b[0;34m\u001b[0m\u001b[0m\n",
      "\u001b[0;32m/usr/lib/python3/dist-packages/IPython/core/magic.py\u001b[0m in \u001b[0;36m<lambda>\u001b[0;34m(f, *a, **k)\u001b[0m\n\u001b[1;32m    185\u001b[0m     \u001b[0;31m# but it's overkill for just that one bit of state.\u001b[0m\u001b[0;34m\u001b[0m\u001b[0;34m\u001b[0m\u001b[0m\n\u001b[1;32m    186\u001b[0m     \u001b[0;32mdef\u001b[0m \u001b[0mmagic_deco\u001b[0m\u001b[0;34m(\u001b[0m\u001b[0marg\u001b[0m\u001b[0;34m)\u001b[0m\u001b[0;34m:\u001b[0m\u001b[0;34m\u001b[0m\u001b[0;34m\u001b[0m\u001b[0m\n\u001b[0;32m--> 187\u001b[0;31m         \u001b[0mcall\u001b[0m \u001b[0;34m=\u001b[0m \u001b[0;32mlambda\u001b[0m \u001b[0mf\u001b[0m\u001b[0;34m,\u001b[0m \u001b[0;34m*\u001b[0m\u001b[0ma\u001b[0m\u001b[0;34m,\u001b[0m \u001b[0;34m**\u001b[0m\u001b[0mk\u001b[0m\u001b[0;34m:\u001b[0m \u001b[0mf\u001b[0m\u001b[0;34m(\u001b[0m\u001b[0;34m*\u001b[0m\u001b[0ma\u001b[0m\u001b[0;34m,\u001b[0m \u001b[0;34m**\u001b[0m\u001b[0mk\u001b[0m\u001b[0;34m)\u001b[0m\u001b[0;34m\u001b[0m\u001b[0;34m\u001b[0m\u001b[0m\n\u001b[0m\u001b[1;32m    188\u001b[0m \u001b[0;34m\u001b[0m\u001b[0m\n\u001b[1;32m    189\u001b[0m         \u001b[0;32mif\u001b[0m \u001b[0mcallable\u001b[0m\u001b[0;34m(\u001b[0m\u001b[0marg\u001b[0m\u001b[0;34m)\u001b[0m\u001b[0;34m:\u001b[0m\u001b[0;34m\u001b[0m\u001b[0;34m\u001b[0m\u001b[0m\n",
      "\u001b[0;32m~/.local/lib/python3.10/site-packages/manim/utils/ipython_magic.py\u001b[0m in \u001b[0;36mmanim\u001b[0;34m(self, line, cell, local_ns)\u001b[0m\n\u001b[1;32m    139\u001b[0m                     \u001b[0mSceneClass\u001b[0m \u001b[0;34m=\u001b[0m \u001b[0mlocal_ns\u001b[0m\u001b[0;34m[\u001b[0m\u001b[0mconfig\u001b[0m\u001b[0;34m[\u001b[0m\u001b[0;34m\"scene_names\"\u001b[0m\u001b[0;34m]\u001b[0m\u001b[0;34m[\u001b[0m\u001b[0;36m0\u001b[0m\u001b[0;34m]\u001b[0m\u001b[0;34m]\u001b[0m\u001b[0;34m\u001b[0m\u001b[0;34m\u001b[0m\u001b[0m\n\u001b[1;32m    140\u001b[0m                     \u001b[0mscene\u001b[0m \u001b[0;34m=\u001b[0m \u001b[0mSceneClass\u001b[0m\u001b[0;34m(\u001b[0m\u001b[0mrenderer\u001b[0m\u001b[0;34m=\u001b[0m\u001b[0mrenderer\u001b[0m\u001b[0;34m)\u001b[0m\u001b[0;34m\u001b[0m\u001b[0;34m\u001b[0m\u001b[0m\n\u001b[0;32m--> 141\u001b[0;31m                     \u001b[0mscene\u001b[0m\u001b[0;34m.\u001b[0m\u001b[0mrender\u001b[0m\u001b[0;34m(\u001b[0m\u001b[0;34m)\u001b[0m\u001b[0;34m\u001b[0m\u001b[0;34m\u001b[0m\u001b[0m\n\u001b[0m\u001b[1;32m    142\u001b[0m                 \u001b[0;32mfinally\u001b[0m\u001b[0;34m:\u001b[0m\u001b[0;34m\u001b[0m\u001b[0;34m\u001b[0m\u001b[0m\n\u001b[1;32m    143\u001b[0m                     \u001b[0;31m# Shader cache becomes invalid as the context is destroyed\u001b[0m\u001b[0;34m\u001b[0m\u001b[0;34m\u001b[0m\u001b[0m\n",
      "\u001b[0;32m~/.local/lib/python3.10/site-packages/manim/scene/scene.py\u001b[0m in \u001b[0;36mrender\u001b[0;34m(self, preview)\u001b[0m\n\u001b[1;32m    221\u001b[0m         \u001b[0mself\u001b[0m\u001b[0;34m.\u001b[0m\u001b[0msetup\u001b[0m\u001b[0;34m(\u001b[0m\u001b[0;34m)\u001b[0m\u001b[0;34m\u001b[0m\u001b[0;34m\u001b[0m\u001b[0m\n\u001b[1;32m    222\u001b[0m         \u001b[0;32mtry\u001b[0m\u001b[0;34m:\u001b[0m\u001b[0;34m\u001b[0m\u001b[0;34m\u001b[0m\u001b[0m\n\u001b[0;32m--> 223\u001b[0;31m             \u001b[0mself\u001b[0m\u001b[0;34m.\u001b[0m\u001b[0mconstruct\u001b[0m\u001b[0;34m(\u001b[0m\u001b[0;34m)\u001b[0m\u001b[0;34m\u001b[0m\u001b[0;34m\u001b[0m\u001b[0m\n\u001b[0m\u001b[1;32m    224\u001b[0m         \u001b[0;32mexcept\u001b[0m \u001b[0mEndSceneEarlyException\u001b[0m\u001b[0;34m:\u001b[0m\u001b[0;34m\u001b[0m\u001b[0;34m\u001b[0m\u001b[0m\n\u001b[1;32m    225\u001b[0m             \u001b[0;32mpass\u001b[0m\u001b[0;34m\u001b[0m\u001b[0;34m\u001b[0m\u001b[0m\n",
      "\u001b[0;32m<string>\u001b[0m in \u001b[0;36mconstruct\u001b[0;34m(self)\u001b[0m\n",
      "\u001b[0;32m~/.local/lib/python3.10/site-packages/manim/mobject/mobject.py\u001b[0m in \u001b[0;36m__getitem__\u001b[0;34m(self, value)\u001b[0m\n\u001b[1;32m   2145\u001b[0m             \u001b[0mGroupClass\u001b[0m \u001b[0;34m=\u001b[0m \u001b[0mself\u001b[0m\u001b[0;34m.\u001b[0m\u001b[0mget_group_class\u001b[0m\u001b[0;34m(\u001b[0m\u001b[0;34m)\u001b[0m\u001b[0;34m\u001b[0m\u001b[0;34m\u001b[0m\u001b[0m\n\u001b[1;32m   2146\u001b[0m             \u001b[0;32mreturn\u001b[0m \u001b[0mGroupClass\u001b[0m\u001b[0;34m(\u001b[0m\u001b[0;34m*\u001b[0m\u001b[0mself_list\u001b[0m\u001b[0;34m.\u001b[0m\u001b[0m__getitem__\u001b[0m\u001b[0;34m(\u001b[0m\u001b[0mvalue\u001b[0m\u001b[0;34m)\u001b[0m\u001b[0;34m)\u001b[0m\u001b[0;34m\u001b[0m\u001b[0;34m\u001b[0m\u001b[0m\n\u001b[0;32m-> 2147\u001b[0;31m         \u001b[0;32mreturn\u001b[0m \u001b[0mself_list\u001b[0m\u001b[0;34m.\u001b[0m\u001b[0m__getitem__\u001b[0m\u001b[0;34m(\u001b[0m\u001b[0mvalue\u001b[0m\u001b[0;34m)\u001b[0m\u001b[0;34m\u001b[0m\u001b[0;34m\u001b[0m\u001b[0m\n\u001b[0m\u001b[1;32m   2148\u001b[0m \u001b[0;34m\u001b[0m\u001b[0m\n\u001b[1;32m   2149\u001b[0m     \u001b[0;32mdef\u001b[0m \u001b[0m__iter__\u001b[0m\u001b[0;34m(\u001b[0m\u001b[0mself\u001b[0m\u001b[0;34m)\u001b[0m\u001b[0;34m:\u001b[0m\u001b[0;34m\u001b[0m\u001b[0;34m\u001b[0m\u001b[0m\n",
      "\u001b[0;31mIndexError\u001b[0m: list index out of range"
     ]
    }
   ],
   "source": [
    "%%manim -v WARNING --disable_caching ListAddition\n",
    "class ListAddition(Scene):\n",
    "    def construct(self):\n",
    "        # Crear y mostrar las listas x e y\n",
    "        x = [1, 2, 3, 4, 5]\n",
    "        y = [10, 20, 30, 40, 50]\n",
    "        x_group = self.create_list(x, \"x =\", ORANGE).to_edge(UP).shift(LEFT)\n",
    "        y_group = self.create_list(y, \"y =\", BLUE).next_to(x_group, DOWN, buff=1.5)\n",
    "        self.play(*[Write(group) for group in [x_group, y_group]])\n",
    "        self.wait()\n",
    "\n",
    "        # Inicializar la lista resultado y mostrarla\n",
    "        resultado = [0]*len(x)\n",
    "        resultado_group = self.create_list(resultado, \"resultado =\", GREEN).to_edge(DOWN)\n",
    "        self.play(Write(resultado_group))\n",
    "        self.wait()\n",
    "\n",
    "        # Realizar la adición elemento a elemento y actualizar la lista resultado\n",
    "        for i in range(len(x)):\n",
    "            xi_val = x_group[1][i].copy()\n",
    "            yi_val = y_group[1][i].copy()\n",
    "            result_val = Integer(x[i] + y[i]).set_color(GREEN)\n",
    "            \n",
    "            self.play(\n",
    "                xi_val.animate.move_to(resultado_group[1][i].get_center()),\n",
    "                yi_val.animate.move_to(resultado_group[1][i].get_center()),\n",
    "                run_time=0.8,\n",
    "            )\n",
    "            self.play(Transform(xi_val, result_val))\n",
    "            self.play(FadeOut(yi_val))\n",
    "            \n",
    "            self.play(ReplacementTransform(xi_val, resultado_group[1][i]), run_time=0.1)\n",
    "\n",
    "        self.wait()\n",
    "\n",
    "    def create_list(self, data, name, color):\n",
    "        name_text = Tex(name, color=color)\n",
    "        list_elements = VGroup(\n",
    "            *[Integer(num).set_color(color) for num in data]\n",
    "        ).arrange(RIGHT, buff=0.8)\n",
    "        list_boxes = VGroup(\n",
    "            *[SurroundingRectangle(element, buff=0.2) for element in list_elements]\n",
    "        )\n",
    "        list_group = VGroup(name_text, list_elements).arrange(RIGHT, buff=0.5)\n",
    "        list_group.add_to_back(list_boxes)\n",
    "        return list_group"
   ]
  },
  {
   "cell_type": "code",
   "execution_count": 19,
   "id": "2c54982d",
   "metadata": {},
   "outputs": [
    {
     "name": "stderr",
     "output_type": "stream",
     "text": [
      "<string>:9: DeprecationWarning: This method is not guaranteed to stay around. Please prefer setting the attribute normally or with Mobject.set().\n",
      "                                                                                                                        \r"
     ]
    },
    {
     "data": {
      "text/html": [
       "<video src=\"media/jupyter/NumberTable@2023-04-22@13-53-24.mp4\" controls autoplay loop style=\"max-width: 60%;\"  >\n",
       "      Your browser does not support the <code>video</code> element.\n",
       "    </video>"
      ],
      "text/plain": [
       "<IPython.core.display.Video object>"
      ]
     },
     "metadata": {},
     "output_type": "display_data"
    }
   ],
   "source": [
    "%%manim -v WARNING --disable_caching NumberTable\n",
    "class NumberTable(Scene):\n",
    "    def construct(self):\n",
    "        vector = self.create_vector([1, 2, 3, 4, 5])\n",
    "        self.play(Write(vector))\n",
    "        self.wait()\n",
    "\n",
    "    def create_vector(self, numbers):\n",
    "        vector = Matrix([numbers], bracket_h_buff=0.5, bracket_v_buff=0.5, h_buff=1.5)\n",
    "        vector.set_cell_alignment(LEFT)\n",
    "        return vector"
   ]
  },
  {
   "cell_type": "code",
   "execution_count": 23,
   "id": "233565ef",
   "metadata": {},
   "outputs": [
    {
     "name": "stderr",
     "output_type": "stream",
     "text": [
      "<string>:17: DeprecationWarning: This method is not guaranteed to stay around. Please prefer setting the attribute normally or with Mobject.set().\n",
      "<string>:10: DeprecationWarning: This method is not guaranteed to stay around. Please prefer getting the attribute normally.\n"
     ]
    },
    {
     "ename": "AttributeError",
     "evalue": "MathTex object has no attribute 'value'",
     "output_type": "error",
     "traceback": [
      "\u001b[0;31m---------------------------------------------------------------------------\u001b[0m",
      "\u001b[0;31mAttributeError\u001b[0m                            Traceback (most recent call last)",
      "\u001b[0;32m/tmp/ipykernel_1726/1566230321.py\u001b[0m in \u001b[0;36m<module>\u001b[0;34m\u001b[0m\n\u001b[0;32m----> 1\u001b[0;31m \u001b[0mget_ipython\u001b[0m\u001b[0;34m(\u001b[0m\u001b[0;34m)\u001b[0m\u001b[0;34m.\u001b[0m\u001b[0mrun_cell_magic\u001b[0m\u001b[0;34m(\u001b[0m\u001b[0;34m'manim'\u001b[0m\u001b[0;34m,\u001b[0m \u001b[0;34m'-v WARNING --disable_caching NumberTable'\u001b[0m\u001b[0;34m,\u001b[0m \u001b[0;34m'class NumberTable(Scene):\\n    def construct(self):\\n        vector = self.create_vector([1, 2, 3, 4, 5])\\n        self.play(Write(vector))\\n\\n        for i in range(len(vector.get_entries())):\\n            entry = vector.get_entries()[i]\\n            self.play(entry.animate.set_color(YELLOW))\\n            self.wait(0.5)\\n            squared_value = entry.get_value() ** 2\\n            new_entry = Decimal(squared_value).move_to(entry)\\n            self.play(Transform(entry, new_entry))\\n            self.wait(0.5)\\n\\n    def create_vector(self, numbers):\\n        vector = Matrix([numbers], bracket_h_buff=0.5, bracket_v_buff=0.5, h_buff=1.5)\\n        vector.set_cell_alignment(LEFT)\\n        return vector\\n'\u001b[0m\u001b[0;34m)\u001b[0m\u001b[0;34m\u001b[0m\u001b[0;34m\u001b[0m\u001b[0m\n\u001b[0m",
      "\u001b[0;32m/usr/lib/python3/dist-packages/IPython/core/interactiveshell.py\u001b[0m in \u001b[0;36mrun_cell_magic\u001b[0;34m(self, magic_name, line, cell)\u001b[0m\n\u001b[1;32m   2417\u001b[0m             \u001b[0;32mwith\u001b[0m \u001b[0mself\u001b[0m\u001b[0;34m.\u001b[0m\u001b[0mbuiltin_trap\u001b[0m\u001b[0;34m:\u001b[0m\u001b[0;34m\u001b[0m\u001b[0;34m\u001b[0m\u001b[0m\n\u001b[1;32m   2418\u001b[0m                 \u001b[0margs\u001b[0m \u001b[0;34m=\u001b[0m \u001b[0;34m(\u001b[0m\u001b[0mmagic_arg_s\u001b[0m\u001b[0;34m,\u001b[0m \u001b[0mcell\u001b[0m\u001b[0;34m)\u001b[0m\u001b[0;34m\u001b[0m\u001b[0;34m\u001b[0m\u001b[0m\n\u001b[0;32m-> 2419\u001b[0;31m                 \u001b[0mresult\u001b[0m \u001b[0;34m=\u001b[0m \u001b[0mfn\u001b[0m\u001b[0;34m(\u001b[0m\u001b[0;34m*\u001b[0m\u001b[0margs\u001b[0m\u001b[0;34m,\u001b[0m \u001b[0;34m**\u001b[0m\u001b[0mkwargs\u001b[0m\u001b[0;34m)\u001b[0m\u001b[0;34m\u001b[0m\u001b[0;34m\u001b[0m\u001b[0m\n\u001b[0m\u001b[1;32m   2420\u001b[0m             \u001b[0;32mreturn\u001b[0m \u001b[0mresult\u001b[0m\u001b[0;34m\u001b[0m\u001b[0;34m\u001b[0m\u001b[0m\n\u001b[1;32m   2421\u001b[0m \u001b[0;34m\u001b[0m\u001b[0m\n",
      "\u001b[0;32m~/.local/lib/python3.10/site-packages/decorator.py\u001b[0m in \u001b[0;36mfun\u001b[0;34m(*args, **kw)\u001b[0m\n\u001b[1;32m    230\u001b[0m             \u001b[0;32mif\u001b[0m \u001b[0;32mnot\u001b[0m \u001b[0mkwsyntax\u001b[0m\u001b[0;34m:\u001b[0m\u001b[0;34m\u001b[0m\u001b[0;34m\u001b[0m\u001b[0m\n\u001b[1;32m    231\u001b[0m                 \u001b[0margs\u001b[0m\u001b[0;34m,\u001b[0m \u001b[0mkw\u001b[0m \u001b[0;34m=\u001b[0m \u001b[0mfix\u001b[0m\u001b[0;34m(\u001b[0m\u001b[0margs\u001b[0m\u001b[0;34m,\u001b[0m \u001b[0mkw\u001b[0m\u001b[0;34m,\u001b[0m \u001b[0msig\u001b[0m\u001b[0;34m)\u001b[0m\u001b[0;34m\u001b[0m\u001b[0;34m\u001b[0m\u001b[0m\n\u001b[0;32m--> 232\u001b[0;31m             \u001b[0;32mreturn\u001b[0m \u001b[0mcaller\u001b[0m\u001b[0;34m(\u001b[0m\u001b[0mfunc\u001b[0m\u001b[0;34m,\u001b[0m \u001b[0;34m*\u001b[0m\u001b[0;34m(\u001b[0m\u001b[0mextras\u001b[0m \u001b[0;34m+\u001b[0m \u001b[0margs\u001b[0m\u001b[0;34m)\u001b[0m\u001b[0;34m,\u001b[0m \u001b[0;34m**\u001b[0m\u001b[0mkw\u001b[0m\u001b[0;34m)\u001b[0m\u001b[0;34m\u001b[0m\u001b[0;34m\u001b[0m\u001b[0m\n\u001b[0m\u001b[1;32m    233\u001b[0m     \u001b[0mfun\u001b[0m\u001b[0;34m.\u001b[0m\u001b[0m__name__\u001b[0m \u001b[0;34m=\u001b[0m \u001b[0mfunc\u001b[0m\u001b[0;34m.\u001b[0m\u001b[0m__name__\u001b[0m\u001b[0;34m\u001b[0m\u001b[0;34m\u001b[0m\u001b[0m\n\u001b[1;32m    234\u001b[0m     \u001b[0mfun\u001b[0m\u001b[0;34m.\u001b[0m\u001b[0m__doc__\u001b[0m \u001b[0;34m=\u001b[0m \u001b[0mfunc\u001b[0m\u001b[0;34m.\u001b[0m\u001b[0m__doc__\u001b[0m\u001b[0;34m\u001b[0m\u001b[0;34m\u001b[0m\u001b[0m\n",
      "\u001b[0;32m/usr/lib/python3/dist-packages/IPython/core/magic.py\u001b[0m in \u001b[0;36m<lambda>\u001b[0;34m(f, *a, **k)\u001b[0m\n\u001b[1;32m    185\u001b[0m     \u001b[0;31m# but it's overkill for just that one bit of state.\u001b[0m\u001b[0;34m\u001b[0m\u001b[0;34m\u001b[0m\u001b[0m\n\u001b[1;32m    186\u001b[0m     \u001b[0;32mdef\u001b[0m \u001b[0mmagic_deco\u001b[0m\u001b[0;34m(\u001b[0m\u001b[0marg\u001b[0m\u001b[0;34m)\u001b[0m\u001b[0;34m:\u001b[0m\u001b[0;34m\u001b[0m\u001b[0;34m\u001b[0m\u001b[0m\n\u001b[0;32m--> 187\u001b[0;31m         \u001b[0mcall\u001b[0m \u001b[0;34m=\u001b[0m \u001b[0;32mlambda\u001b[0m \u001b[0mf\u001b[0m\u001b[0;34m,\u001b[0m \u001b[0;34m*\u001b[0m\u001b[0ma\u001b[0m\u001b[0;34m,\u001b[0m \u001b[0;34m**\u001b[0m\u001b[0mk\u001b[0m\u001b[0;34m:\u001b[0m \u001b[0mf\u001b[0m\u001b[0;34m(\u001b[0m\u001b[0;34m*\u001b[0m\u001b[0ma\u001b[0m\u001b[0;34m,\u001b[0m \u001b[0;34m**\u001b[0m\u001b[0mk\u001b[0m\u001b[0;34m)\u001b[0m\u001b[0;34m\u001b[0m\u001b[0;34m\u001b[0m\u001b[0m\n\u001b[0m\u001b[1;32m    188\u001b[0m \u001b[0;34m\u001b[0m\u001b[0m\n\u001b[1;32m    189\u001b[0m         \u001b[0;32mif\u001b[0m \u001b[0mcallable\u001b[0m\u001b[0;34m(\u001b[0m\u001b[0marg\u001b[0m\u001b[0;34m)\u001b[0m\u001b[0;34m:\u001b[0m\u001b[0;34m\u001b[0m\u001b[0;34m\u001b[0m\u001b[0m\n",
      "\u001b[0;32m~/.local/lib/python3.10/site-packages/manim/utils/ipython_magic.py\u001b[0m in \u001b[0;36mmanim\u001b[0;34m(self, line, cell, local_ns)\u001b[0m\n\u001b[1;32m    139\u001b[0m                     \u001b[0mSceneClass\u001b[0m \u001b[0;34m=\u001b[0m \u001b[0mlocal_ns\u001b[0m\u001b[0;34m[\u001b[0m\u001b[0mconfig\u001b[0m\u001b[0;34m[\u001b[0m\u001b[0;34m\"scene_names\"\u001b[0m\u001b[0;34m]\u001b[0m\u001b[0;34m[\u001b[0m\u001b[0;36m0\u001b[0m\u001b[0;34m]\u001b[0m\u001b[0;34m]\u001b[0m\u001b[0;34m\u001b[0m\u001b[0;34m\u001b[0m\u001b[0m\n\u001b[1;32m    140\u001b[0m                     \u001b[0mscene\u001b[0m \u001b[0;34m=\u001b[0m \u001b[0mSceneClass\u001b[0m\u001b[0;34m(\u001b[0m\u001b[0mrenderer\u001b[0m\u001b[0;34m=\u001b[0m\u001b[0mrenderer\u001b[0m\u001b[0;34m)\u001b[0m\u001b[0;34m\u001b[0m\u001b[0;34m\u001b[0m\u001b[0m\n\u001b[0;32m--> 141\u001b[0;31m                     \u001b[0mscene\u001b[0m\u001b[0;34m.\u001b[0m\u001b[0mrender\u001b[0m\u001b[0;34m(\u001b[0m\u001b[0;34m)\u001b[0m\u001b[0;34m\u001b[0m\u001b[0;34m\u001b[0m\u001b[0m\n\u001b[0m\u001b[1;32m    142\u001b[0m                 \u001b[0;32mfinally\u001b[0m\u001b[0;34m:\u001b[0m\u001b[0;34m\u001b[0m\u001b[0;34m\u001b[0m\u001b[0m\n\u001b[1;32m    143\u001b[0m                     \u001b[0;31m# Shader cache becomes invalid as the context is destroyed\u001b[0m\u001b[0;34m\u001b[0m\u001b[0;34m\u001b[0m\u001b[0m\n",
      "\u001b[0;32m~/.local/lib/python3.10/site-packages/manim/scene/scene.py\u001b[0m in \u001b[0;36mrender\u001b[0;34m(self, preview)\u001b[0m\n\u001b[1;32m    221\u001b[0m         \u001b[0mself\u001b[0m\u001b[0;34m.\u001b[0m\u001b[0msetup\u001b[0m\u001b[0;34m(\u001b[0m\u001b[0;34m)\u001b[0m\u001b[0;34m\u001b[0m\u001b[0;34m\u001b[0m\u001b[0m\n\u001b[1;32m    222\u001b[0m         \u001b[0;32mtry\u001b[0m\u001b[0;34m:\u001b[0m\u001b[0;34m\u001b[0m\u001b[0;34m\u001b[0m\u001b[0m\n\u001b[0;32m--> 223\u001b[0;31m             \u001b[0mself\u001b[0m\u001b[0;34m.\u001b[0m\u001b[0mconstruct\u001b[0m\u001b[0;34m(\u001b[0m\u001b[0;34m)\u001b[0m\u001b[0;34m\u001b[0m\u001b[0;34m\u001b[0m\u001b[0m\n\u001b[0m\u001b[1;32m    224\u001b[0m         \u001b[0;32mexcept\u001b[0m \u001b[0mEndSceneEarlyException\u001b[0m\u001b[0;34m:\u001b[0m\u001b[0;34m\u001b[0m\u001b[0;34m\u001b[0m\u001b[0m\n\u001b[1;32m    225\u001b[0m             \u001b[0;32mpass\u001b[0m\u001b[0;34m\u001b[0m\u001b[0;34m\u001b[0m\u001b[0m\n",
      "\u001b[0;32m<string>\u001b[0m in \u001b[0;36mconstruct\u001b[0;34m(self)\u001b[0m\n",
      "\u001b[0;32m~/.local/lib/python3.10/site-packages/manim/mobject/mobject.py\u001b[0m in \u001b[0;36mgetter\u001b[0;34m(self)\u001b[0m\n\u001b[1;32m    635\u001b[0m                 )\n\u001b[1;32m    636\u001b[0m \u001b[0;34m\u001b[0m\u001b[0m\n\u001b[0;32m--> 637\u001b[0;31m                 \u001b[0;32mreturn\u001b[0m \u001b[0mgetattr\u001b[0m\u001b[0;34m(\u001b[0m\u001b[0mself\u001b[0m\u001b[0;34m,\u001b[0m \u001b[0mto_get\u001b[0m\u001b[0;34m)\u001b[0m\u001b[0;34m\u001b[0m\u001b[0;34m\u001b[0m\u001b[0m\n\u001b[0m\u001b[1;32m    638\u001b[0m \u001b[0;34m\u001b[0m\u001b[0m\n\u001b[1;32m    639\u001b[0m             \u001b[0;31m# Return a bound method\u001b[0m\u001b[0;34m\u001b[0m\u001b[0;34m\u001b[0m\u001b[0m\n",
      "\u001b[0;32m~/.local/lib/python3.10/site-packages/manim/mobject/mobject.py\u001b[0m in \u001b[0;36m__getattr__\u001b[0;34m(self, attr)\u001b[0m\n\u001b[1;32m    660\u001b[0m \u001b[0;34m\u001b[0m\u001b[0m\n\u001b[1;32m    661\u001b[0m         \u001b[0;31m# Unhandled attribute, therefore error\u001b[0m\u001b[0;34m\u001b[0m\u001b[0;34m\u001b[0m\u001b[0m\n\u001b[0;32m--> 662\u001b[0;31m         \u001b[0;32mraise\u001b[0m \u001b[0mAttributeError\u001b[0m\u001b[0;34m(\u001b[0m\u001b[0;34mf\"{type(self).__name__} object has no attribute '{attr}'\"\u001b[0m\u001b[0;34m)\u001b[0m\u001b[0;34m\u001b[0m\u001b[0;34m\u001b[0m\u001b[0m\n\u001b[0m\u001b[1;32m    663\u001b[0m \u001b[0;34m\u001b[0m\u001b[0m\n\u001b[1;32m    664\u001b[0m     \u001b[0;34m@\u001b[0m\u001b[0mproperty\u001b[0m\u001b[0;34m\u001b[0m\u001b[0;34m\u001b[0m\u001b[0m\n",
      "\u001b[0;31mAttributeError\u001b[0m: MathTex object has no attribute 'value'"
     ]
    }
   ],
   "source": [
    "%%manim -v WARNING --disable_caching NumberTable\n",
    "class NumberTable(Scene):\n",
    "    def construct(self):\n",
    "        vector = self.create_vector([1, 2, 3, 4, 5])\n",
    "        self.play(Write(vector))\n",
    "\n",
    "        for i in range(len(vector.get_entries())):\n",
    "            entry = vector.get_entries()[i]\n",
    "            self.play(entry.animate.set_color(YELLOW))\n",
    "            self.wait(0.5)\n",
    "            squared_value = entry.get_value() ** 2\n",
    "            new_entry = Decimal(squared_value).move_to(entry)\n",
    "            self.play(Transform(entry, new_entry))\n",
    "            self.wait(0.5)\n",
    "\n",
    "    def create_vector(self, numbers):\n",
    "        vector = Matrix([numbers], bracket_h_buff=0.5, bracket_v_buff=0.5, h_buff=1.5)\n",
    "        vector.set_cell_alignment(LEFT)\n",
    "        return vector\n"
   ]
  },
  {
   "cell_type": "code",
   "execution_count": 26,
   "id": "0548cb7d",
   "metadata": {},
   "outputs": [
    {
     "name": "stderr",
     "output_type": "stream",
     "text": [
      "<string>:19: DeprecationWarning: This method is not guaranteed to stay around. Please prefer setting the attribute normally or with Mobject.set().\n",
      "                                                                                                                        \r"
     ]
    },
    {
     "data": {
      "text/html": [
       "<video src=\"media/jupyter/NumberTable@2023-04-22@14-30-52.mp4\" controls autoplay loop style=\"max-width: 60%;\"  >\n",
       "      Your browser does not support the <code>video</code> element.\n",
       "    </video>"
      ],
      "text/plain": [
       "<IPython.core.display.Video object>"
      ]
     },
     "metadata": {},
     "output_type": "display_data"
    }
   ],
   "source": [
    "%%manim -v WARNING --disable_caching NumberTable\n",
    "class NumberTable(Scene):\n",
    "    def construct(self):\n",
    "        numbers = [1.00, 2.00, 3.00, 4.00, 5.00]\n",
    "        vector = self.create_vector(numbers)\n",
    "        self.play(Write(vector))\n",
    "\n",
    "        entries = vector.get_entries()\n",
    "        for i in range(len(entries)):\n",
    "            entry = entries[i]\n",
    "            self.play(entry.animate.set_color(YELLOW))\n",
    "            self.wait(0.5)\n",
    "            squared_value = numbers[i] ** 2\n",
    "            new_entry = DecimalNumber(squared_value).move_to(entry)\n",
    "            self.play(Transform(entry, new_entry))\n",
    "            self.wait(0.5)\n",
    "\n",
    "    def create_vector(self, numbers):\n",
    "        vector = Matrix([numbers], bracket_h_buff=0.5, bracket_v_buff=0.5, h_buff=1.5)\n",
    "        vector.set_cell_alignment(LEFT)\n",
    "        return vector"
   ]
  },
  {
   "cell_type": "code",
   "execution_count": 27,
   "id": "58366984",
   "metadata": {},
   "outputs": [
    {
     "name": "stderr",
     "output_type": "stream",
     "text": [
      "<string>:37: DeprecationWarning: This method is not guaranteed to stay around. Please prefer setting the attribute normally or with Mobject.set().\n",
      "<string>:37: DeprecationWarning: This method is not guaranteed to stay around. Please prefer setting the attribute normally or with Mobject.set().\n",
      "                                                                                                                        \r"
     ]
    },
    {
     "data": {
      "text/html": [
       "<video src=\"media/jupyter/NumberTablev2@2023-04-22@15-09-47.mp4\" controls autoplay loop style=\"max-width: 60%;\"  >\n",
       "      Your browser does not support the <code>video</code> element.\n",
       "    </video>"
      ],
      "text/plain": [
       "<IPython.core.display.Video object>"
      ]
     },
     "metadata": {},
     "output_type": "display_data"
    }
   ],
   "source": [
    "%%manim -v WARNING --disable_caching NumberTablev2\n",
    "class NumberTablev2(Scene):\n",
    "    def construct(self):\n",
    "        numbers = [1.00, 2.00, 3.00, 4.00, 5.00]\n",
    "\n",
    "        # Python list\n",
    "        list_label = Text(\"Python list\").to_edge(UP).shift(LEFT * 2)\n",
    "        vector = self.create_vector(numbers).next_to(list_label, DOWN)\n",
    "        self.play(Write(list_label), Write(vector))\n",
    "\n",
    "        entries = vector.get_entries()\n",
    "        for i in range(len(entries)):\n",
    "            entry = entries[i]\n",
    "            self.play(entry.animate.set_color(YELLOW))\n",
    "            self.wait(0.5)\n",
    "            squared_value = numbers[i] ** 2\n",
    "            new_entry = DecimalNumber(squared_value).move_to(entry)\n",
    "            self.play(Transform(entry, new_entry))\n",
    "            self.wait(0.5)\n",
    "\n",
    "        # Numpy array\n",
    "        array_label = Text(\"Numpy array\").to_edge(DOWN).shift(LEFT * 2)\n",
    "        array_vector = self.create_vector(numbers).next_to(array_label, UP)\n",
    "        self.play(Write(array_label), Write(array_vector))\n",
    "\n",
    "        array_entries = array_vector.get_entries()\n",
    "        self.play(*[entry.animate.set_color(YELLOW) for entry in array_entries])\n",
    "        self.wait(0.5)\n",
    "        for i in range(len(array_entries)):\n",
    "            entry = array_entries[i]\n",
    "            squared_value = numbers[i] ** 2\n",
    "            new_entry = DecimalNumber(squared_value).move_to(entry)\n",
    "            self.play(Transform(entry, new_entry), run_time=0.1)\n",
    "        self.wait(0.5)\n",
    "\n",
    "    def create_vector(self, numbers):\n",
    "        vector = Matrix([numbers], bracket_h_buff=0.5, bracket_v_buff=0.5, h_buff=1.5)\n",
    "        vector.set_cell_alignment(LEFT)\n",
    "        return vector"
   ]
  },
  {
   "cell_type": "code",
   "execution_count": 28,
   "id": "c142b1f5",
   "metadata": {},
   "outputs": [
    {
     "name": "stderr",
     "output_type": "stream",
     "text": [
      "<string>:36: DeprecationWarning: This method is not guaranteed to stay around. Please prefer setting the attribute normally or with Mobject.set().\n",
      "<string>:36: DeprecationWarning: This method is not guaranteed to stay around. Please prefer setting the attribute normally or with Mobject.set().\n",
      "                                                                                                                        \r"
     ]
    },
    {
     "data": {
      "text/html": [
       "<video src=\"media/jupyter/NumberTablev3@2023-04-22@15-20-28.mp4\" controls autoplay loop style=\"max-width: 60%;\"  >\n",
       "      Your browser does not support the <code>video</code> element.\n",
       "    </video>"
      ],
      "text/plain": [
       "<IPython.core.display.Video object>"
      ]
     },
     "metadata": {},
     "output_type": "display_data"
    }
   ],
   "source": [
    "%%manim -v WARNING --disable_caching NumberTablev3\n",
    "class NumberTablev3(Scene):   \n",
    "    def construct(self):\n",
    "        numbers = [1.00, 2.00, 3.00, 4.00, 5.00]\n",
    "\n",
    "        # Python list\n",
    "        list_label = Text(\"Python list\").to_edge(UP).shift(LEFT * 2)\n",
    "        vector = self.create_vector(numbers).next_to(list_label, DOWN)\n",
    "        self.play(Write(list_label), Write(vector))\n",
    "\n",
    "        entries = vector.get_entries()\n",
    "        for i in range(len(entries)):\n",
    "            entry = entries[i]\n",
    "            self.play(entry.animate.set_color(YELLOW))\n",
    "            self.wait(0.5)\n",
    "            squared_value = numbers[i] ** 2\n",
    "            new_entry = DecimalNumber(squared_value).move_to(entry)\n",
    "            self.play(Transform(entry, new_entry))\n",
    "            self.wait(0.5)\n",
    "\n",
    "        # Numpy array\n",
    "        array_label = Text(\"Numpy array\").to_edge(DOWN).shift(LEFT * 2)\n",
    "        array_vector = self.create_vector(numbers).next_to(array_label, UP)\n",
    "        self.play(Write(array_label), Write(array_vector))\n",
    "\n",
    "        array_entries = array_vector.get_entries()\n",
    "        self.play(*[entry.animate.set_color(YELLOW) for entry in array_entries])\n",
    "        self.wait(0.5)\n",
    "\n",
    "        # Animate all entries simultaneously\n",
    "        new_entries = [DecimalNumber(numbers[i] ** 2).move_to(array_entries[i]) for i in range(len(array_entries))]\n",
    "        self.play(*[Transform(array_entries[i], new_entries[i]) for i in range(len(array_entries))])\n",
    "        self.wait(0.5)\n",
    "\n",
    "    def create_vector(self, numbers):\n",
    "        vector = Matrix([numbers], bracket_h_buff=0.5, bracket_v_buff=0.5, h_buff=1.5)\n",
    "        vector.set_cell_alignment(LEFT)\n",
    "        return vector"
   ]
  },
  {
   "cell_type": "code",
   "execution_count": 34,
   "id": "318c9085",
   "metadata": {},
   "outputs": [
    {
     "name": "stderr",
     "output_type": "stream",
     "text": [
      "<string>:52: DeprecationWarning: This method is not guaranteed to stay around. Please prefer setting the attribute normally or with Mobject.set().\n",
      "<string>:52: DeprecationWarning: This method is not guaranteed to stay around. Please prefer setting the attribute normally or with Mobject.set().\n",
      "                                                                                                                        \r"
     ]
    },
    {
     "data": {
      "text/html": [
       "<video src=\"media/jupyter/NumberTablev4@2023-04-22@16-02-55.mp4\" controls autoplay loop style=\"max-width: 60%;\"  >\n",
       "      Your browser does not support the <code>video</code> element.\n",
       "    </video>"
      ],
      "text/plain": [
       "<IPython.core.display.Video object>"
      ]
     },
     "metadata": {},
     "output_type": "display_data"
    }
   ],
   "source": [
    "%%manim -v WARNING --disable_caching NumberTablev4\n",
    "class NumberTablev4(Scene):\n",
    "    def construct(self):\n",
    "        numbers = [1.00, 2.00, 3.00, 4.00, 5.00]\n",
    "\n",
    "        # Python list\n",
    "        list_label = Text(\"Python list\").to_edge(UP).shift(LEFT * 2)\n",
    "        vector = self.create_vector(numbers).next_to(list_label, DOWN)\n",
    "        self.play(Write(list_label), Write(vector))\n",
    "        code = \"\"\"x = [1,2,3,4,5]\n",
    "for i in range(len(x)):\n",
    "    x[i] = x[i] ** 2\"\"\"\n",
    "        python_code = Code(code = code ,\n",
    "            language=\"python\",\n",
    "        ).scale(0.5).next_to(vector, RIGHT)\n",
    "\n",
    "        self.play(Write(python_code))\n",
    "\n",
    "        entries = vector.get_entries()\n",
    "        for i in range(len(entries)):\n",
    "            entry = entries[i]\n",
    "            self.play(entry.animate.set_color(YELLOW))\n",
    "            self.wait(0.5)\n",
    "            squared_value = numbers[i] ** 2\n",
    "            new_entry = DecimalNumber(squared_value).move_to(entry)\n",
    "            self.play(Transform(entry, new_entry))\n",
    "            self.wait(0.5)\n",
    "\n",
    "        # Numpy array\n",
    "        array_label = Text(\"Numpy array\").shift(LEFT * 2)\n",
    "        array_vector = self.create_vector(numbers).next_to(array_label, DOWN)\n",
    "        self.play(Write(array_label), Write(array_vector))\n",
    "        code = \"\"\"x = np.arange(1,6)\n",
    "x = x ** 2\"\"\"\n",
    "        numpy_code = Code(\n",
    "           code = code,\n",
    "            language=\"python\",\n",
    "        ).scale(0.5).next_to(array_vector, RIGHT)\n",
    "\n",
    "        self.play(Write(numpy_code))\n",
    "\n",
    "        array_entries = array_vector.get_entries()\n",
    "        self.play(*[entry.animate.set_color(YELLOW) for entry in array_entries])\n",
    "        self.wait(0.5)\n",
    "\n",
    "        # Animate all entries simultaneously\n",
    "        new_entries = [DecimalNumber(numbers[i] ** 2).move_to(array_entries[i]) for i in range(len(array_entries))]\n",
    "        self.play(*[Transform(array_entries[i], new_entries[i]) for i in range(len(array_entries))])\n",
    "        self.wait(0.5)\n",
    "\n",
    "    def create_vector(self, numbers):\n",
    "        vector = Matrix([numbers], bracket_h_buff=0.5, bracket_v_buff=0.5, h_buff=1.5)\n",
    "        vector.set_cell_alignment(LEFT)\n",
    "        return vector"
   ]
  },
  {
   "cell_type": "code",
   "execution_count": 3,
   "id": "7023e4e5",
   "metadata": {},
   "outputs": [
    {
     "name": "stderr",
     "output_type": "stream",
     "text": [
      "<string>:39: DeprecationWarning: This method is not guaranteed to stay around. Please prefer setting the attribute normally or with Mobject.set().\n",
      "                                                                                                                        \r"
     ]
    },
    {
     "data": {
      "text/html": [
       "<video src=\"media/jupyter/VectorAddition@2023-04-27@23-17-22.mp4\" controls autoplay loop style=\"max-width: 60%;\"  >\n",
       "      Your browser does not support the <code>video</code> element.\n",
       "    </video>"
      ],
      "text/plain": [
       "<IPython.core.display.Video object>"
      ]
     },
     "metadata": {},
     "output_type": "display_data"
    }
   ],
   "source": [
    "%%manim -v WARNING --disable_caching VectorAddition\n",
    "from manim import *\n",
    "\n",
    "\n",
    "class VectorAddition(Scene):\n",
    "    def construct(self):\n",
    "        numbers1 = [1, 2, 3, 4, 5]\n",
    "        numbers2 = [10, 20, 30, 40, 50]\n",
    "        numbers3 = [0, 0, 0, 0, 0]\n",
    "\n",
    "        vector1 = self.create_vector(numbers1).shift(UP * 1.5)\n",
    "        vector2 = self.create_vector(numbers2)\n",
    "        vector3 = self.create_vector(numbers3).shift(DOWN * 1.5)\n",
    "\n",
    "        self.play(Write(vector1), Write(vector2), Write(vector3))\n",
    "\n",
    "        entries1 = vector1.get_entries()\n",
    "        entries2 = vector2.get_entries()\n",
    "        entries3 = vector3.get_entries()\n",
    "\n",
    "        for i in range(len(entries1)):\n",
    "            self.play(\n",
    "                entries1[i].animate.set_color(YELLOW),\n",
    "                entries2[i].animate.set_color(YELLOW),\n",
    "            )\n",
    "            self.wait(0.5)\n",
    "\n",
    "            sum_value = numbers1[i] + numbers2[i]\n",
    "            new_entry = DecimalNumber(sum_value).move_to(entries3[i])\n",
    "\n",
    "            self.play(\n",
    "                Transform(entries3[i], new_entry),\n",
    "                entries1[i].animate.set_color(WHITE),\n",
    "                entries2[i].animate.set_color(WHITE),\n",
    "            )\n",
    "            self.wait(0.5)\n",
    "\n",
    "    def create_vector(self, numbers):\n",
    "        vector = Matrix([numbers], bracket_h_buff=0.5, bracket_v_buff=0.5, h_buff=1.5)\n",
    "        vector.set_cell_alignment(LEFT)\n",
    "        return vector"
   ]
  },
  {
   "cell_type": "code",
   "execution_count": 4,
   "id": "cd579bb8",
   "metadata": {},
   "outputs": [
    {
     "name": "stderr",
     "output_type": "stream",
     "text": [
      "<string>:48: DeprecationWarning: This method is not guaranteed to stay around. Please prefer setting the attribute normally or with Mobject.set().\n",
      "                                                                                                                        \r"
     ]
    },
    {
     "data": {
      "text/html": [
       "<video src=\"media/jupyter/VectorAdditionv2@2023-04-27@23-24-13.mp4\" controls autoplay loop style=\"max-width: 60%;\"  >\n",
       "      Your browser does not support the <code>video</code> element.\n",
       "    </video>"
      ],
      "text/plain": [
       "<IPython.core.display.Video object>"
      ]
     },
     "metadata": {},
     "output_type": "display_data"
    }
   ],
   "source": [
    "%%manim -v WARNING --disable_caching VectorAdditionv2\n",
    "class VectorAdditionv2(Scene):\n",
    "    def construct(self):\n",
    "        numbers1 = [1, 2, 3, 4, 5]\n",
    "        numbers2 = [10, 20, 30, 40, 50]\n",
    "        numbers3 = [0, 0, 0, 0, 0]\n",
    "\n",
    "        vector1 = self.create_vector(numbers1).shift(UP * 1.5)\n",
    "        vector2 = self.create_vector(numbers2)\n",
    "        vector3 = self.create_vector(numbers3).shift(DOWN * 1.5)\n",
    "\n",
    "        separator = Line(start=LEFT * 5, end=RIGHT * 5).next_to(vector2, DOWN, buff=1)\n",
    "\n",
    "        self.play(Write(vector1), Write(vector2), Write(vector3), Write(separator))\n",
    "\n",
    "        entries1 = vector1.get_entries()\n",
    "        entries2 = vector2.get_entries()\n",
    "        entries3 = vector3.get_entries()\n",
    "\n",
    "        for i in range(len(entries1)):\n",
    "            self.play(\n",
    "                entries1[i].animate.set_color(YELLOW),\n",
    "                entries2[i].animate.set_color(YELLOW),\n",
    "            )\n",
    "            self.wait(0.5)\n",
    "\n",
    "            entry_copy1 = entries1[i].copy()\n",
    "            entry_copy2 = entries2[i].copy()\n",
    "\n",
    "            self.play(\n",
    "                entry_copy1.animate.move_to(entries3[i]),\n",
    "                entry_copy2.animate.move_to(entries3[i]),\n",
    "                run_time=1,\n",
    "            )\n",
    "\n",
    "            sum_value = numbers1[i] + numbers2[i]\n",
    "            new_entry = DecimalNumber(sum_value).move_to(entries3[i])\n",
    "\n",
    "            self.play(Transform(entry_copy1, new_entry))\n",
    "            self.play(FadeOut(entry_copy2))\n",
    "            self.play(\n",
    "                entries1[i].animate.set_color(WHITE),\n",
    "                entries2[i].animate.set_color(WHITE),\n",
    "            )\n",
    "            self.wait(0.5)\n",
    "\n",
    "    def create_vector(self, numbers):\n",
    "        vector = Matrix([numbers], bracket_h_buff=0.5, bracket_v_buff=0.5, h_buff=1.5)\n",
    "        vector.set_cell_alignment(LEFT)\n",
    "        return vector"
   ]
  },
  {
   "cell_type": "code",
   "execution_count": 7,
   "id": "68d578be",
   "metadata": {},
   "outputs": [
    {
     "name": "stderr",
     "output_type": "stream",
     "text": [
      "<string>:48: DeprecationWarning: This method is not guaranteed to stay around. Please prefer setting the attribute normally or with Mobject.set().\n",
      "                                                                                                                        \r"
     ]
    },
    {
     "data": {
      "text/html": [
       "<video src=\"media/jupyter/VectorAdditionv3@2023-04-27@23-49-29.mp4\" controls autoplay loop style=\"max-width: 60%;\"  >\n",
       "      Your browser does not support the <code>video</code> element.\n",
       "    </video>"
      ],
      "text/plain": [
       "<IPython.core.display.Video object>"
      ]
     },
     "metadata": {},
     "output_type": "display_data"
    }
   ],
   "source": [
    "%%manim -v WARNING --disable_caching VectorAdditionv3\n",
    "class VectorAdditionv3(Scene):\n",
    "    def construct(self):\n",
    "        numbers1 = [1.00, 2, 3, 4, 5]\n",
    "        numbers2 = [10, 20, 30, 40, 50]\n",
    "        numbers3 = [0, 0, 0, 0, 0]\n",
    "\n",
    "        vector1 = self.create_vector(numbers1).shift(UP * 1.5)\n",
    "        vector2 = self.create_vector(numbers2)\n",
    "        vector3 = self.create_vector(numbers3).shift(DOWN * 2.0)\n",
    "\n",
    "        separator = Line(start=LEFT * 5, end=RIGHT * 5).next_to(vector2, DOWN, buff=0.4)\n",
    "\n",
    "        self.play(Write(vector1), Write(vector2), Write(vector3), Write(separator))\n",
    "\n",
    "        entries1 = vector1.get_entries()\n",
    "        entries2 = vector2.get_entries()\n",
    "        entries3 = vector3.get_entries()\n",
    "\n",
    "        for i in range(len(entries1)):\n",
    "            self.play(\n",
    "                entries1[i].animate.set_color(YELLOW),\n",
    "                entries2[i].animate.set_color(YELLOW),\n",
    "            )\n",
    "            self.wait(0.5)\n",
    "\n",
    "            entry_copy1 = entries1[i].copy()\n",
    "            entry_copy2 = entries2[i].copy()\n",
    "\n",
    "            self.play(\n",
    "                entry_copy1.animate.move_to(entries3[i]),\n",
    "                entry_copy2.animate.move_to(entries3[i]),\n",
    "                run_time=1,\n",
    "            )\n",
    "\n",
    "            sum_value = numbers1[i] + numbers2[i]\n",
    "            new_entry = DecimalNumber(sum_value).move_to(entries3[i])\n",
    "\n",
    "            self.play(Transform(entry_copy1, new_entry))\n",
    "            self.play(FadeOut(entry_copy2))\n",
    "            self.play(\n",
    "                entries1[i].animate.set_color(WHITE),\n",
    "                entries2[i].animate.set_color(WHITE),\n",
    "            )\n",
    "            self.wait(0.5)\n",
    "\n",
    "    def create_vector(self, numbers):\n",
    "        vector = Matrix([numbers], bracket_h_buff=0.5, bracket_v_buff=0.5, h_buff=1.5)\n",
    "        vector.set_cell_alignment(LEFT)\n",
    "        return vector"
   ]
  },
  {
   "cell_type": "code",
   "execution_count": 5,
   "id": "b506bd6f",
   "metadata": {},
   "outputs": [
    {
     "name": "stderr",
     "output_type": "stream",
     "text": [
      "UsageError: Cell magic `%%manim` not found.\n"
     ]
    }
   ],
   "source": [
    "%%manim -v WARNING --disable_caching VectorAdditionv4\n",
    "from manim import *\n",
    "\n",
    "\n",
    "class VectorAdditionv4(Scene):\n",
    "    def construct(self):\n",
    "        numbers1 = [1.00, 2.00, 3.00, 4.00, 5.00]\n",
    "        numbers2 = [10.00, 20.00, 30.00, 40.00, 50.00]\n",
    "        numbers3 = [0, 0, 0, 0, 0]\n",
    "\n",
    "        vector1 = self.create_vector(numbers1).shift(UP * 1.5)\n",
    "        vector2 = self.create_vector(numbers2)\n",
    "        vector3 = self.create_vector(numbers3).shift(DOWN * 2.0)\n",
    "\n",
    "        separator = Line(start=LEFT * 5, end=RIGHT * 5).next_to(vector2, DOWN, buff=0.4)\n",
    "\n",
    "        self.play(Write(vector1), Write(vector2), Write(vector3), Write(separator))\n",
    "\n",
    "        entries1 = vector1.get_entries()\n",
    "        entries2 = vector2.get_entries()\n",
    "        entries3 = vector3.get_entries()\n",
    "\n",
    "        for i in range(len(entries1)):\n",
    "            self.play(\n",
    "                entries1[i].animate.set_color(YELLOW),\n",
    "                entries2[i].animate.set_color(YELLOW),\n",
    "            )\n",
    "            self.wait(0.5)\n",
    "\n",
    "            entry_copy1 = entries1[i].copy()\n",
    "            entry_copy2 = entries2[i].copy()\n",
    "\n",
    "            self.play(\n",
    "                entry_copy1.animate.move_to(entries3[i]),\n",
    "                entry_copy2.animate.move_to(entries3[i]),\n",
    "                run_time=1,\n",
    "            )\n",
    "\n",
    "            sum_value = numbers1[i] + numbers2[i]\n",
    "            new_entry = DecimalNumber(sum_value).move_to(entries3[i])\n",
    "            group = VGroup(entry_copy1,entry_copy2, entries3[i])\n",
    "            self.play(\n",
    "                entries1[i].animate.set_color(WHITE),\n",
    "                entries2[i].animate.set_color(WHITE),\n",
    "                Transform(group,new_entry)\n",
    "                \n",
    "            )\n",
    "            entries3[i] = new_entry\n",
    "            self.wait(0.5)\n",
    "\n",
    "    def create_vector(self, numbers):\n",
    "        vector = Matrix([numbers], bracket_h_buff=0.5, bracket_v_buff=0.5, h_buff=1.5)\n",
    "        vector.set_cell_alignment(LEFT)\n",
    "        return vector\n"
   ]
  },
  {
   "cell_type": "code",
   "execution_count": 25,
   "id": "b1a78573",
   "metadata": {},
   "outputs": [
    {
     "name": "stderr",
     "output_type": "stream",
     "text": [
      "<string>:76: DeprecationWarning: This method is not guaranteed to stay around. Please prefer setting the attribute normally or with Mobject.set().\n",
      "                                                                                                                        \r"
     ]
    },
    {
     "data": {
      "text/html": [
       "<video src=\"media/jupyter/VectorAdditionv5@2023-04-28@17-06-01.mp4\" controls autoplay loop style=\"max-width: 60%;\"  >\n",
       "      Your browser does not support the <code>video</code> element.\n",
       "    </video>"
      ],
      "text/plain": [
       "<IPython.core.display.Video object>"
      ]
     },
     "metadata": {},
     "output_type": "display_data"
    }
   ],
   "source": [
    "%%manim -v WARNING --disable_caching VectorAdditionv5\n",
    "from manim import *\n",
    "\n",
    "class VectorAdditionv5(Scene):\n",
    "    def construct(self):\n",
    "        # Muestra el bloque de código Python\n",
    "        pythonCode = '''x = [1,2,3,4,5]\n",
    "y = [10,20,30,40,50]\n",
    "resultado = [0,0,0,0,0]\n",
    "for i in range(0,len(x)):\n",
    "    resultado[i] = x[i] + y[i]'''\n",
    "        code = Code(code = pythonCode ,\n",
    "            language=\"python\",\n",
    "        ).center()\n",
    "        self.play(Write(code))\n",
    "        self.wait(2)\n",
    "        self.play(FadeOut(code))\n",
    "\n",
    "        numbers1 = [1.0, 2.0, 3.0, 4.0, 5.0]\n",
    "        numbers2 = [10.0, 20.0, 30.0, 40.0, 50.0]\n",
    "        numbers3 = [0, 0, 0, 0, 0]\n",
    "\n",
    "        vector1 = self.create_vector(numbers1).shift(UP * 1.5)\n",
    "        vector2 = self.create_vector(numbers2)\n",
    "        vector3 = self.create_vector(numbers3).shift(DOWN * 2.0)\n",
    "\n",
    "        separator = Line(start=LEFT * 5, end=RIGHT * 5).next_to(vector2, DOWN, buff=0.4)\n",
    "\n",
    "        self.play(Write(vector1), Write(vector2), Write(vector3), Write(separator))\n",
    "\n",
    "        entries1 = vector1.get_entries()\n",
    "        entries2 = vector2.get_entries()\n",
    "        entries3 = vector3.get_entries()\n",
    "\n",
    "        for i in range(len(entries1)):\n",
    "            self.play(\n",
    "                entries1[i].animate.set_color(YELLOW),\n",
    "                entries2[i].animate.set_color(YELLOW),\n",
    "            )\n",
    "            self.wait(0.5)\n",
    "\n",
    "            entry_copy1 = entries1[i].copy()\n",
    "            entry_copy2 = entries2[i].copy()\n",
    "\n",
    "            self.play(\n",
    "                entry_copy1.animate.move_to(entries3[i]),\n",
    "                entry_copy2.animate.move_to(entries3[i]),\n",
    "                run_time=1,\n",
    "            )\n",
    "\n",
    "            sum_value = numbers1[i] + numbers2[i]\n",
    "            new_entry = DecimalNumber(sum_value).move_to(entries3[i])\n",
    "            group = VGroup(entry_copy1, entry_copy2, entries3[i])\n",
    "            self.play(\n",
    "                entries1[i].animate.set_color(WHITE),\n",
    "                entries2[i].animate.set_color(WHITE),\n",
    "                Transform(group, new_entry)\n",
    "            )\n",
    "            entries3[i] = new_entry\n",
    "            self.wait(0.5)\n",
    "        self.wait(2)\n",
    "        result_entries = VGroup(*entries3)\n",
    "        self.play(\n",
    "            FadeOut(vector1),\n",
    "            FadeOut(vector2),\n",
    "            FadeOut(vector3),\n",
    "            FadeOut(separator),\n",
    "            FadeOut(group),\n",
    "            FadeOut(result_entries)\n",
    "        )\n",
    "        self.wait(2)\n",
    "        ############\n",
    "\n",
    "\n",
    "    def create_vector(self, numbers):\n",
    "        vector = Matrix([numbers], bracket_h_buff=0.5, bracket_v_buff=0.5, h_buff=1.5)\n",
    "        vector.set_cell_alignment(LEFT)\n",
    "        return vector\n"
   ]
  },
  {
   "cell_type": "code",
   "execution_count": 21,
   "id": "8e3cc93e",
   "metadata": {},
   "outputs": [
    {
     "name": "stderr",
     "output_type": "stream",
     "text": [
      "<string>:60: DeprecationWarning: This method is not guaranteed to stay around. Please prefer setting the attribute normally or with Mobject.set().\n",
      "                                                                                                                        \r"
     ]
    },
    {
     "data": {
      "text/html": [
       "<video src=\"media/jupyter/VectorAdditionv6@2023-04-28@16-53-55.mp4\" controls autoplay loop style=\"max-width: 60%;\"  >\n",
       "      Your browser does not support the <code>video</code> element.\n",
       "    </video>"
      ],
      "text/plain": [
       "<IPython.core.display.Video object>"
      ]
     },
     "metadata": {},
     "output_type": "display_data"
    }
   ],
   "source": [
    "%%manim -v WARNING --disable_caching VectorAdditionv6\n",
    "class VectorAdditionv6(Scene):\n",
    "    def construct(self):\n",
    "        numbers1 = [1.0, 2.0, 3.0, 4.0, 5.0]\n",
    "        numbers2 = [10.0, 20.0, 30.0, 40.0, 50.0]\n",
    "        numbers3 = [0, 0, 0, 0, 0]\n",
    "\n",
    "        vector1 = self.create_vector(numbers1).shift(UP * 1.5)\n",
    "        vector2 = self.create_vector(numbers2)\n",
    "        vector3 = self.create_vector(numbers3).shift(DOWN * 2.0)\n",
    "\n",
    "        separator = Line(start=LEFT * 5, end=RIGHT * 5).next_to(vector2, DOWN, buff=0.4)\n",
    "\n",
    "        self.play(Write(vector1), Write(vector2), Write(vector3), Write(separator))\n",
    "\n",
    "        entries1 = vector1.get_entries()\n",
    "        entries2 = vector2.get_entries()\n",
    "        entries3 = vector3.get_entries()\n",
    "\n",
    "        # Destaca todos los elementos de los dos primeros vectores simultáneamente\n",
    "        self.play(\n",
    "            *[entries1[i].animate.set_color(YELLOW) for i in range(len(entries1))],\n",
    "            *[entries2[i].animate.set_color(YELLOW) for i in range(len(entries2))],\n",
    "        )\n",
    "        self.wait(0.5)\n",
    "\n",
    "        # Crea el objeto del vector resultante de las sumas\n",
    "        result_vector_copies = VGroup()\n",
    "\n",
    "        for i in range(len(entries1)):\n",
    "            entry_copy1 = entries1[i].copy()\n",
    "            entry_copy2 = entries2[i].copy()\n",
    "            result_vector_copies.add(entry_copy1, entry_copy2)\n",
    "\n",
    "        # Mueve las copias al tercer vector simultáneamente\n",
    "        self.play(\n",
    "            *[result_vector_copies[i].animate.move_to(entries3[i//2]) for i in range(len(result_vector_copies))],\n",
    "            run_time=1,\n",
    "        )\n",
    "\n",
    "        # Aplica la transformación de manera simultánea\n",
    "        transform_group = VGroup()\n",
    "        for i in range(len(entries1)):\n",
    "            sum_value = numbers1[i] + numbers2[i]\n",
    "            new_entry = DecimalNumber(sum_value).move_to(entries3[i])\n",
    "            group = VGroup(result_vector_copies[2*i], result_vector_copies[2*i+1], entries3[i])\n",
    "            transform_group.add(group)\n",
    "            entries3[i] = new_entry\n",
    "\n",
    "        self.play(Transform(transform_group, VGroup(*entries3)))\n",
    "\n",
    "        # Retorna el color de los dos primeros vectores a blanco\n",
    "        self.play(\n",
    "            *[entries1[i].animate.set_color(WHITE) for i in range(len(entries1))],\n",
    "            *[entries2[i].animate.set_color(WHITE) for i in range(len(entries2))],\n",
    "        )\n",
    "        self.wait(4)\n",
    "\n",
    "    def create_vector(self, numbers):\n",
    "        vector = Matrix([numbers], bracket_h_buff=0.5, bracket_v_buff=0.5, h_buff=1.5)\n",
    "        vector.set_cell_alignment(LEFT)\n",
    "        return vector"
   ]
  },
  {
   "cell_type": "code",
   "execution_count": 4,
   "id": "62a8a611",
   "metadata": {},
   "outputs": [
    {
     "name": "stderr",
     "output_type": "stream",
     "text": [
      "<string>:213: DeprecationWarning: This method is not guaranteed to stay around. Please prefer setting the attribute normally or with Mobject.set().\n",
      "<string>:213: DeprecationWarning: This method is not guaranteed to stay around. Please prefer setting the attribute normally or with Mobject.set().\n",
      "<string>:213: DeprecationWarning: This method is not guaranteed to stay around. Please prefer setting the attribute normally or with Mobject.set().\n",
      "<string>:213: DeprecationWarning: This method is not guaranteed to stay around. Please prefer setting the attribute normally or with Mobject.set().\n",
      "                                                                                                                        \r"
     ]
    },
    {
     "data": {
      "text/html": [
       "<video src=\"media/jupyter/VectorAdditionv8@2023-04-28@21-20-05.mp4\" controls autoplay loop style=\"max-width: 60%;\"  >\n",
       "      Your browser does not support the <code>video</code> element.\n",
       "    </video>"
      ],
      "text/plain": [
       "<IPython.core.display.Video object>"
      ]
     },
     "metadata": {},
     "output_type": "display_data"
    }
   ],
   "source": [
    "%%manim -v WARNING --disable_caching VectorAdditionv8\n",
    "class VectorAdditionv8(Scene):\n",
    "    def construct(self):\n",
    "        # Muestra el bloque de código Python\n",
    "        pythonCode = '''x = [1,2,3,4,5]\n",
    "y = [10,20,30,40,50]\n",
    "resultado = [0,0,0,0,0]\n",
    "for i in range(0,len(x)):\n",
    "    resultado[i] = x[i] + y[i]'''\n",
    "        code = Code(code = pythonCode ,\n",
    "            language=\"python\",\n",
    "        ).center()\n",
    "        title = Text(\"Vectorización\").center()\n",
    "        self.play(Write(title))\n",
    "        self.wait(2)\n",
    "        self.play(FadeOut(title))\n",
    "        title = Text(\"Suma de vectores con listas de python\").next_to(code,UP,buff=0.4)\n",
    "        self.play(Write(code), Write(title))\n",
    "        self.wait(4)\n",
    "        self.play(FadeOut(code), FadeOut(title))\n",
    "\n",
    "        numbers1 = [1.0, 2.0, 3.0, 4.0, 5.0]\n",
    "        numbers2 = [10.0, 20.0, 30.0, 40.0, 50.0]\n",
    "        numbers3 = [0, 0, 0, 0, 0]\n",
    "\n",
    "        vector1 = self.create_vector(numbers1).shift(UP * 1.5)\n",
    "        vector2 = self.create_vector(numbers2)\n",
    "        vector3 = self.create_vector(numbers3).shift(DOWN * 2.0)\n",
    "\n",
    "        separator = Line(start=LEFT * 5, end=RIGHT * 5).next_to(vector2, DOWN, buff=0.4)\n",
    "\n",
    "        self.play(Write(vector1), Write(vector2), Write(vector3), Write(separator))\n",
    "\n",
    "        entries1 = vector1.get_entries()\n",
    "        entries2 = vector2.get_entries()\n",
    "        entries3 = vector3.get_entries()\n",
    "\n",
    "        # Lista para almacenar todos los grupos creados\n",
    "        groups = []\n",
    "\n",
    "        for i in range(len(entries1)):\n",
    "            self.play(\n",
    "                entries1[i].animate.set_color(YELLOW),\n",
    "                entries2[i].animate.set_color(YELLOW),\n",
    "            )\n",
    "            self.wait(0.5)\n",
    "\n",
    "            entry_copy1 = entries1[i].copy()\n",
    "            entry_copy2 = entries2[i].copy()\n",
    "\n",
    "            self.play(\n",
    "                entry_copy1.animate.move_to(entries3[i]),\n",
    "                entry_copy2.animate.move_to(entries3[i]),\n",
    "                run_time=1,\n",
    "            )\n",
    "\n",
    "            sum_value = numbers1[i] + numbers2[i]\n",
    "            new_entry = DecimalNumber(sum_value).move_to(entries3[i])\n",
    "            group = VGroup(entry_copy1, entry_copy2, entries3[i])\n",
    "            self.play(\n",
    "                entries1[i].animate.set_color(WHITE),\n",
    "                entries2[i].animate.set_color(WHITE),\n",
    "                Transform(group, new_entry)\n",
    "            )\n",
    "            entries3[i] = new_entry\n",
    "\n",
    "            # Agregar el grupo a la lista de grupos\n",
    "            groups.append(group)\n",
    "\n",
    "            self.wait(0.5)\n",
    "        self.wait(2)\n",
    "\n",
    "        # FadeOut para todos los objetos en pantalla\n",
    "        result_entries = VGroup(*entries3)\n",
    "        self.play(\n",
    "            FadeOut(vector1),\n",
    "            FadeOut(vector2),\n",
    "            FadeOut(vector3),\n",
    "            FadeOut(separator),\n",
    "            FadeOut(vector3.brackets),\n",
    "            FadeOut(result_entries),\n",
    "            *[FadeOut(group) for group in groups]\n",
    "        )\n",
    "        self.wait(2)\n",
    "        pythonCode = '''x = np.array([1,2,3,4,5])\n",
    "y = np.array([10,20,30,40,50])\n",
    "resultado = np.array([0,0,0,0,0])\n",
    "resultado = x + y'''\n",
    "        code = Code(code = pythonCode ,\n",
    "            language=\"python\",\n",
    "            ).center()\n",
    "        title = Text(\"Suma vectorizada con NumPy arrays\").next_to(code,UP,buff=0.4)\n",
    "        self.play(Write(code), Write(title))\n",
    "        self.wait(2)\n",
    "        self.play(FadeOut(code), FadeOut(title))\n",
    "        numbers1 = [1.0, 2.0, 3.0, 4.0, 5.0]\n",
    "        numbers2 = [10.0, 20.0, 30.0, 40.0, 50.0]\n",
    "        numbers3 = [0, 0, 0, 0, 0]\n",
    "\n",
    "        vector1 = self.create_vector(numbers1).shift(UP * 1.5)\n",
    "        vector2 = self.create_vector(numbers2)\n",
    "        vector3 = self.create_vector(numbers3).shift(DOWN * 2.0)\n",
    "\n",
    "        separator = Line(start=LEFT * 5, end=RIGHT * 5).next_to(vector2, DOWN, buff=0.4)\n",
    "\n",
    "        self.play(Write(vector1), Write(vector2), Write(vector3), Write(separator))\n",
    "\n",
    "        entries1 = vector1.get_entries()\n",
    "        entries2 = vector2.get_entries()\n",
    "        entries3 = vector3.get_entries()\n",
    "\n",
    "        # Destaca todos los elementos de los dos primeros vectores simultáneamente\n",
    "        self.play(\n",
    "            *[entries1[i].animate.set_color(YELLOW) for i in range(len(entries1))],\n",
    "            *[entries2[i].animate.set_color(YELLOW) for i in range(len(entries2))],\n",
    "        )\n",
    "        self.wait(0.5)\n",
    "\n",
    "        # Crea el objeto del vector resultante de las sumas\n",
    "        result_vector_copies = VGroup()\n",
    "\n",
    "        for i in range(len(entries1)):\n",
    "            entry_copy1 = entries1[i].copy()\n",
    "            entry_copy2 = entries2[i].copy()\n",
    "            result_vector_copies.add(entry_copy1, entry_copy2)\n",
    "\n",
    "        # Mueve las copias al tercer vector simultáneamente\n",
    "        self.play(\n",
    "            *[result_vector_copies[i].animate.move_to(entries3[i//2]) for i in range(len(result_vector_copies))],\n",
    "            run_time=1,\n",
    "        )\n",
    "\n",
    "        # Aplica la transformación de manera simultánea\n",
    "        transform_group = VGroup()\n",
    "        for i in range(len(entries1)):\n",
    "            sum_value = numbers1[i] + numbers2[i]\n",
    "            new_entry = DecimalNumber(sum_value).move_to(entries3[i])\n",
    "            group = VGroup(result_vector_copies[2*i], result_vector_copies[2*i+1], entries3[i])\n",
    "            transform_group.add(group)\n",
    "            entries3[i] = new_entry\n",
    "\n",
    "        self.play(Transform(transform_group, VGroup(*entries3)))\n",
    "\n",
    "        # Retorna el color de los dos primeros vectores a blanco\n",
    "        self.play(\n",
    "            *[entries1[i].animate.set_color(WHITE) for i in range(len(entries1))],\n",
    "            *[entries2[i].animate.set_color(WHITE) for i in range(len(entries2))],\n",
    "        )\n",
    "        result_entries = VGroup(*entries3)\n",
    "        self.play(\n",
    "            FadeOut(vector1),\n",
    "            FadeOut(vector2),\n",
    "            FadeOut(vector3),\n",
    "            FadeOut(separator),\n",
    "            FadeOut(vector3.brackets),\n",
    "            FadeOut(result_entries),\n",
    "            FadeOut(transform_group)\n",
    "        )\n",
    "        self.wait(2)\n",
    "\n",
    "        \n",
    "        text = Text(\"Funciones sobre vectores\")\n",
    "        self.play(Write(text))\n",
    "        self.wait(2)\n",
    "        self.play(FadeOut(text))\n",
    "        numbers = [1.00, 2.00, 3.00, 4.00, 5.00]\n",
    "        # Python list\n",
    "        list_label = Text(\"Python list\").to_edge(UP).shift(LEFT * 2)\n",
    "        vector = self.create_vector(numbers).next_to(list_label, DOWN)\n",
    "        self.play(Write(list_label), Write(vector))\n",
    "        code = \"\"\"x = [1,2,3,4,5]\n",
    "for i in range(len(x)):\n",
    "    x[i] = x[i] ** 2\"\"\"\n",
    "        python_code = Code(code = code ,\n",
    "            language=\"python\",\n",
    "        ).scale(0.5).next_to(vector, RIGHT)\n",
    "\n",
    "        self.play(Write(python_code))\n",
    "\n",
    "        entries = vector.get_entries()\n",
    "        for i in range(len(entries)):\n",
    "            entry = entries[i]\n",
    "            self.play(entry.animate.set_color(YELLOW))\n",
    "            self.wait(0.5)http://localhost:8888/notebooks/Vectorizaci%C3%B3n.ipynb\n",
    "            squared_value = numbers[i] ** 2\n",
    "            new_entry = DecimalNumber(squared_value).move_to(entry)\n",
    "            self.play(Transform(entry, new_entry))\n",
    "            self.wait(0.5)\n",
    "\n",
    "        # Numpy array\n",
    "        array_label = Text(\"NumPy array\").shift(LEFT * 2)\n",
    "        array_vector = self.create_vector(numbers).next_to(array_label, DOWN)\n",
    "        self.play(Write(array_label), Write(array_vector))\n",
    "        code = \"\"\"x = np.arange(1,6)\n",
    "x = x ** 2\"\"\"\n",
    "        numpy_code = Code(\n",
    "           code = code,\n",
    "            language=\"python\",\n",
    "        ).scale(0.5).next_to(array_vector, RIGHT)\n",
    "\n",
    "        self.play(Write(numpy_code))\n",
    "\n",
    "        array_entries = array_vector.get_entries()\n",
    "        self.play(*[entry.animate.set_color(YELLOW) for entry in array_entries])\n",
    "        self.wait(0.5)\n",
    "\n",
    "        # Animate all entries simultaneously\n",
    "        new_entries = [DecimalNumber(numbers[i] ** 2).move_to(array_entries[i]) for i in range(len(array_entries))]\n",
    "        self.play(*[Transform(array_entries[i], new_entries[i]) for i in range(len(array_entries))])\n",
    "        self.wait(0.5)\n",
    "\n",
    "    def create_vector(self, numbers):\n",
    "        vector = Matrix([numbers], bracket_h_buff=0.5, bracket_v_buff=0.5, h_buff=1.5)\n",
    "        vector.set_cell_alignment(LEFT)\n",
    "        return vector"
   ]
  },
  {
   "cell_type": "code",
   "execution_count": null,
   "id": "12179340",
   "metadata": {},
   "outputs": [],
   "source": []
  }
 ],
 "metadata": {
  "kernelspec": {
   "display_name": "Python 3 (ipykernel)",
   "language": "python",
   "name": "python3"
  },
  "language_info": {
   "codemirror_mode": {
    "name": "ipython",
    "version": 3
   },
   "file_extension": ".py",
   "mimetype": "text/x-python",
   "name": "python",
   "nbconvert_exporter": "python",
   "pygments_lexer": "ipython3",
   "version": "3.10.6"
  }
 },
 "nbformat": 4,
 "nbformat_minor": 5
}
