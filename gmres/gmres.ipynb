{
 "cells": [
  {
   "cell_type": "code",
   "execution_count": 3,
   "id": "0757c9cb",
   "metadata": {},
   "outputs": [],
   "source": [
    "from manim import * \n",
    "import numpy as np"
   ]
  },
  {
   "cell_type": "code",
   "execution_count": 36,
   "id": "25493113",
   "metadata": {},
   "outputs": [
    {
     "name": "stderr",
     "output_type": "stream",
     "text": [
      "                                                                                                                        \r"
     ]
    },
    {
     "data": {
      "text/html": [
       "<video src=\"media/jupyter/oneStepGMRes@2023-05-15@19-33-50.mp4\" controls autoplay loop style=\"max-width: 60%;\"  >\n",
       "      Your browser does not support the <code>video</code> element.\n",
       "    </video>"
      ],
      "text/plain": [
       "<IPython.core.display.Video object>"
      ]
     },
     "metadata": {},
     "output_type": "display_data"
    }
   ],
   "source": [
    "%%manim -ql -v WARNING oneStepGMRes\n",
    "class Vector3D(Arrow3D):\n",
    "    def __init__(self, axes, end, **kwargs):\n",
    "        super().__init__(axes.c2p(0, 0, 0), axes.c2p(*end), resolution=[1, 8], **kwargs)\n",
    "\n",
    "\n",
    "class PolygonFromVectors(Polygon):\n",
    "    def __init__(self, axes, _v1, _v2, **kwargs):\n",
    "        super().__init__(\n",
    "            axes.c2p(0, 0, 0), axes.c2p(*_v1), axes.c2p(*(_v1+_v2)), axes.c2p(*_v2),\n",
    "            **kwargs\n",
    "        )\n",
    "\n",
    "\n",
    "class MyPlane(PolygonFromVectors):\n",
    "    def __init__(self, axes, _v1, _v2, stroke_width=0.5, fill_opacity=0.15, **kwargs):\n",
    "        super().__init__(\n",
    "            axes, _v1, _v2,\n",
    "            stroke_width=stroke_width, fill_opacity=fill_opacity,\n",
    "            **kwargs\n",
    "        )\n",
    "\n",
    "\n",
    "class MyElbow(PolygonFromVectors):\n",
    "    def __init__(self, axes, _v1, _v2, stroke_width=2, fill_opacity=0.4, **kwargs):\n",
    "        super().__init__(\n",
    "            axes, _v1/(5*np.linalg.norm(_v1)), _v2/(5*np.linalg.norm(_v2)),\n",
    "            stroke_width=stroke_width, fill_opacity=fill_opacity,\n",
    "            **kwargs\n",
    "        )\n",
    "\n",
    "\n",
    "class oneStepGMRes(ThreeDScene):\n",
    "    def construct(self):\n",
    "        axes = ThreeDAxes(num_axis_pieces=1).scale(2.5).shift(3*IN)\n",
    "        _A = np.array([[1, 1, 1], [0, 1, -1], [1, -1, 0]])\n",
    "        _b = np.array([1, -1, 2])\n",
    "        _x_0 = np.array([0, 0, 0])\n",
    "        _r_0 = _b - _A @ _x_0\n",
    "        _v_1 = _r_0 / np.linalg.norm(_r_0)\n",
    "        _w = _A @ _v_1\n",
    "        _wOR = _w - (np.dot(_w, _v_1)) * _v_1\n",
    "        b = Vector3D(axes,_b,color=RED_A)\n",
    "        v_1 = Vector3D(axes,_v_1,color=GREEN_A)\n",
    "        w = Vector3D(axes,_w,color=BLUE_A)\n",
    "        wOR = Vector3D(axes,_wOR,color=BLUE_A)\n",
    "        OU = OUT+UP\n",
    "        OD = OUT+DOWN\n",
    "\n",
    "        self.set_camera_orientation(phi=65*DEGREES, theta=-165*DEGREES)\n",
    "\n",
    "\n",
    "        self.begin_ambient_camera_rotation()\n",
    "        self.play(FadeIn(axes, b, v_1,w, wOR))\n",
    "        self.wait(2)\n"
   ]
  },
  {
   "cell_type": "code",
   "execution_count": null,
   "id": "407b7cc8",
   "metadata": {},
   "outputs": [],
   "source": []
  }
 ],
 "metadata": {
  "kernelspec": {
   "display_name": "Python 3 (ipykernel)",
   "language": "python",
   "name": "python3"
  },
  "language_info": {
   "codemirror_mode": {
    "name": "ipython",
    "version": 3
   },
   "file_extension": ".py",
   "mimetype": "text/x-python",
   "name": "python",
   "nbconvert_exporter": "python",
   "pygments_lexer": "ipython3",
   "version": "3.10.6"
  }
 },
 "nbformat": 4,
 "nbformat_minor": 5
}
