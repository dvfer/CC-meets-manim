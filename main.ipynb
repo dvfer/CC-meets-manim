{
 "cells": [
  {
   "cell_type": "code",
   "execution_count": 1,
   "metadata": {},
   "outputs": [
    {
     "data": {
      "text/html": [
       "<pre style=\"white-space:pre;overflow-x:auto;line-height:normal;font-family:Menlo,'DejaVu Sans Mono',consolas,'Courier New',monospace\">Manim Community <span style=\"color: #008000\">v0.17.3</span>\n",
       "\n",
       "</pre>\n"
      ],
      "text/plain": [
       "<rich.jupyter.JupyterRenderable at 0x7fb3e6a74f10>"
      ]
     },
     "metadata": {},
     "output_type": "display_data"
    }
   ],
   "source": [
    "from manim import *\n"
   ]
  },
  {
   "cell_type": "code",
   "execution_count": 30,
   "metadata": {},
   "outputs": [
    {
     "name": "stderr",
     "output_type": "stream",
     "text": [
      "                                                                                                       \r"
     ]
    },
    {
     "data": {
      "text/html": [
       "<video src=\"media/jupyter/Biseccion@2022-12-21@17-31-11.mp4\" controls autoplay loop style=\"max-width: 60%;\"  >\n",
       "      Your browser does not support the <code>video</code> element.\n",
       "    </video>"
      ],
      "text/plain": [
       "<IPython.core.display.Video object>"
      ]
     },
     "metadata": {},
     "output_type": "display_data"
    }
   ],
   "source": [
    "%%manim -v WARNING --disable_caching Biseccion\n",
    "class Biseccion(Scene):\n",
    "    def playAndWait(self, objeto):\n",
    "        self.play(objeto)\n",
    "        self.wait()\n",
    "\n",
    "    def construct(self):\n",
    "        FUNCION = lambda x: np.cos(x) - x\n",
    "        title = Text(\"Método de la Bisección\", font_size=76)\n",
    "        text = Title(\"Algoritmo\")\n",
    "        text.next_to(title, UP, buff = 1.5)\n",
    "        ax = Axes(\n",
    "            x_range = [0.0, 1.0 , 0.1],  # start ,  end , step\n",
    "            y_range = [-0.5, 1.0 , 0.5 ],\n",
    "            axis_config = {\"include_numbers\": True, \"font_size\" : 26},\n",
    "            tips = False,\n",
    "            x_length = 6,\n",
    "            y_length = 3,\n",
    "            \n",
    "            )\n",
    "        graph = ax.plot(FUNCION, color=BLUE, x_range=[0.0, 1.0])\n",
    "        rendered_code = Code(\n",
    "            \"code/biseccion.py\",\n",
    "            tab_width=4,\n",
    "            background_stroke_width=1,\n",
    "            background_stroke_color=WHITE,\n",
    "            # line_spacing = 0.8,\n",
    "            insert_line_no=True,\n",
    "            style=\"native\",\n",
    "            background=\"rectangle\",\n",
    "            language=\"Python\",\n",
    "            font = 'Monospace',\n",
    "            line_spacing=0.55,\n",
    "        )\n",
    "        pointer = Arrow(start=LEFT, end=RIGHT, buff = 0.1,max_tip_length_to_length_ratio=0.1, color = PINK).scale(0.01)\n",
    "\n",
    "        rendered_code.next_to(text, DOWN, buff = 0.9)\n",
    "        rendered_code.generate_target()\n",
    "        rendered_code.target.shift(4*LEFT).scale(0.7)\n",
    "\n",
    "        func = Group(ax, graph)\n",
    "        func.shift(2.5*RIGHT + 1.05*DOWN)\n",
    "\n",
    "        a = MathTex(r\"a = 0\")\n",
    "        b = MathTex(r\"b = 1\")\n",
    "        c = MathTex(r\"c = \\frac{(a + b)}{2}\")\n",
    "        fafb = MathTex(r\"f(a)*f(b) = ?\")\n",
    "        variables = VGroup(a,b,c,fafb).scale(0.7)\n",
    "        variables.arrange(RIGHT, buff = 0.6)\n",
    "        variables.next_to(text,DOWN)\n",
    "        #rendered_code[0].set_z_index(-2)\n",
    "        #----ANIMACION----- \n",
    "        #----Comentar para debuggear mas rapido----\n",
    "        #----Por convencion, creo que al momento de ir testeando usar add en vez de play---\n",
    "        self.playAndWait(Write(title)) ## para que quede un poco mas clean la idea es usar la funcion q definí.\n",
    "        self.play(Unwrite(title))\n",
    "        self.play(Write(text))\n",
    "        self.wait()\n",
    "        self.play(Create(rendered_code))\n",
    "        self.wait()\n",
    "        self.play(MoveToTarget(rendered_code))\n",
    "        self.wait()\n",
    "        self.play(Create(ax))\n",
    "        self.play(Create(graph))\n",
    "        self.wait()\n",
    "        self.play(Write(variables))\n",
    "        self.wait()\n",
    "        for i in range(1,10):\n",
    "            pointer.next_to(rendered_code[2][i],LEFT)\n",
    "            #self.add(rendered_code[2][i][2:].add_background_rectangle(PINK, z_index=-1, opacity=0.3)) # OJO con los rectangulos hay q tener ojo ya que en cada linea hay caracteres que no se ven y por eso el rectangulo solapa la linea superior.\n",
    "            self.add(pointer.shift(0.05*DOWN))\n",
    "            self.wait()\n",
    "            self.remove(pointer)\n"
   ]
  },
  {
   "cell_type": "code",
   "execution_count": 7,
   "metadata": {
    "scrolled": false
   },
   "outputs": [
    {
     "name": "stderr",
     "output_type": "stream",
     "text": [
      "                                                                                                                        \r"
     ]
    },
    {
     "data": {
      "text/html": [
       "<video src=\"media/jupyter/VectorizationDemo@2023-04-20@20-02-24.mp4\" controls autoplay loop style=\"max-width: 60%;\"  >\n",
       "      Your browser does not support the <code>video</code> element.\n",
       "    </video>"
      ],
      "text/plain": [
       "<IPython.core.display.Video object>"
      ]
     },
     "metadata": {},
     "output_type": "display_data"
    }
   ],
   "source": [
    "%%manim -v WARNING --disable_caching VectorizationDemo\n",
    "import numpy as np\n",
    "from manim import *\n",
    "\n",
    "class VectorizationDemo(Scene):\n",
    "    def construct(self):\n",
    "        # Crear el array de Python\n",
    "        python_array = VGroup(\n",
    "            *[Integer(num).set_color(YELLOW) for num in range(1, 6)]\n",
    "        ).arrange(RIGHT, buff=0.8)\n",
    "        python_boxes = VGroup(\n",
    "            *[SurroundingRectangle(num, buff=0.2) for num in python_array]\n",
    "        )\n",
    "        python_group = VGroup(python_boxes, python_array)\n",
    "\n",
    "        self.play(\n",
    "            AnimationGroup(\n",
    "                *[Create(box) for box in python_boxes],\n",
    "                *[Write(num) for num in python_array],\n",
    "                lag_ratio=0.2,\n",
    "            )\n",
    "        )\n",
    "\n",
    "        # Aplicar la función x^2 a cada número del array de Python con una flecha\n",
    "        arrow = Arrow(start=UP, end=DOWN, buff=0.1).next_to(python_boxes[0], UP)\n",
    "\n",
    "        for i in range(len(python_array)):\n",
    "            self.play(MoveAlongPath(arrow, Line(arrow.get_center(), python_boxes[i].get_top())), run_time=0.5)\n",
    "            square_val = Integer(python_array[i].get_value() ** 2).set_color(YELLOW)\n",
    "            self.play(ReplacementTransform(python_array[i], square_val))\n",
    "            python_array[i] = square_val\n",
    "            python_boxes[i] = SurroundingRectangle(python_array[i], buff=0.2)\n",
    "            self.play(Create(python_boxes[i]))\n",
    "\n",
    "        self.play(FadeOut(arrow))\n",
    "        self.wait(1)\n",
    "\n",
    "        # Transición al numpy.array\n",
    "        self.play(FadeOut(python_group))\n",
    "\n",
    "        numpy_array = VGroup(\n",
    "            *[Integer(num).set_color(YELLOW) for num in range(1, 6)]\n",
    "        ).arrange(RIGHT, buff=0.8)\n",
    "        numpy_boxes = VGroup(\n",
    "            *[SurroundingRectangle(num, buff=0.2) for num in numpy_array]\n",
    "        )\n",
    "        numpy_group = VGroup(numpy_boxes, numpy_array)\n",
    "\n",
    "        self.play(\n",
    "            AnimationGroup(\n",
    "                *[Create(box) for box in numpy_boxes],\n",
    "                *[Write(num) for num in numpy_array],\n",
    "                lag_ratio=0.2,\n",
    "            )\n",
    "        )\n",
    "\n",
    "        # Aplicar la función x^2 al numpy.array simultáneamente\n",
    "        for i in range(len(numpy_array)):\n",
    "            square_val = Integer(numpy_array[i].get_value() ** 2).set_color(YELLOW)\n",
    "            self.play(ReplacementTransform(numpy_array[i], square_val), run_time=0.1)\n",
    "            numpy_array[i] = square_val\n",
    "            numpy_boxes[i] = SurroundingRectangle(numpy_array[i], buff=0.2)\n",
    "            self.play(Create(numpy_boxes[i]))\n",
    "\n",
    "        self.wait(2)\n",
    "\n",
    "\n"
   ]
  },
  {
   "cell_type": "code",
   "execution_count": 6,
   "metadata": {},
   "outputs": [
    {
     "name": "stdout",
     "output_type": "stream",
     "text": [
      "VGroup of 14 submobjects\n",
      "Dot\n"
     ]
    },
    {
     "name": "stderr",
     "output_type": "stream",
     "text": [
      "                                                                         \r"
     ]
    },
    {
     "name": "stdout",
     "output_type": "stream",
     "text": [
      "Dot\n"
     ]
    },
    {
     "name": "stderr",
     "output_type": "stream",
     "text": [
      "                                                                         \r"
     ]
    },
    {
     "name": "stdout",
     "output_type": "stream",
     "text": [
      "VMobjectFromSVGPath\n"
     ]
    },
    {
     "name": "stderr",
     "output_type": "stream",
     "text": [
      "                                                                                         \r"
     ]
    },
    {
     "name": "stdout",
     "output_type": "stream",
     "text": [
      "Dot\n"
     ]
    },
    {
     "name": "stderr",
     "output_type": "stream",
     "text": [
      "                                                                         \r"
     ]
    },
    {
     "name": "stdout",
     "output_type": "stream",
     "text": [
      "VMobjectFromSVGPath\n"
     ]
    },
    {
     "name": "stderr",
     "output_type": "stream",
     "text": [
      "                                                                                         \r"
     ]
    },
    {
     "name": "stdout",
     "output_type": "stream",
     "text": [
      "Dot\n"
     ]
    },
    {
     "name": "stderr",
     "output_type": "stream",
     "text": [
      "                                                                         \r"
     ]
    },
    {
     "name": "stdout",
     "output_type": "stream",
     "text": [
      "VMobjectFromSVGPath\n"
     ]
    },
    {
     "name": "stderr",
     "output_type": "stream",
     "text": [
      "                                                                                         \r"
     ]
    },
    {
     "name": "stdout",
     "output_type": "stream",
     "text": [
      "VMobjectFromSVGPath\n"
     ]
    },
    {
     "name": "stderr",
     "output_type": "stream",
     "text": [
      "                                                                                         \r"
     ]
    },
    {
     "name": "stdout",
     "output_type": "stream",
     "text": [
      "VMobjectFromSVGPath\n"
     ]
    },
    {
     "name": "stderr",
     "output_type": "stream",
     "text": [
      "                                                                                         \r"
     ]
    },
    {
     "name": "stdout",
     "output_type": "stream",
     "text": [
      "VMobjectFromSVGPath\n"
     ]
    },
    {
     "name": "stderr",
     "output_type": "stream",
     "text": [
      "                                                                                         \r"
     ]
    },
    {
     "name": "stdout",
     "output_type": "stream",
     "text": [
      "VMobjectFromSVGPath\n"
     ]
    },
    {
     "name": "stderr",
     "output_type": "stream",
     "text": [
      "                                                                                          \r"
     ]
    },
    {
     "name": "stdout",
     "output_type": "stream",
     "text": [
      "VMobjectFromSVGPath\n"
     ]
    },
    {
     "name": "stderr",
     "output_type": "stream",
     "text": [
      "                                                                                          \r"
     ]
    },
    {
     "name": "stdout",
     "output_type": "stream",
     "text": [
      "VMobjectFromSVGPath\n"
     ]
    },
    {
     "name": "stderr",
     "output_type": "stream",
     "text": [
      "                                                                                          \r"
     ]
    },
    {
     "name": "stdout",
     "output_type": "stream",
     "text": [
      "VMobjectFromSVGPath\n"
     ]
    },
    {
     "name": "stderr",
     "output_type": "stream",
     "text": [
      "                                                                                             \r"
     ]
    },
    {
     "data": {
      "text/html": [
       "<video src=\"media/jupyter/CodeFromString@2022-12-21@15-15-42.mp4\" controls autoplay loop style=\"max-width: 60%;\"  >\n",
       "      Your browser does not support the <code>video</code> element.\n",
       "    </video>"
      ],
      "text/plain": [
       "<IPython.core.display.Video object>"
      ]
     },
     "metadata": {},
     "output_type": "display_data"
    }
   ],
   "source": [
    "%%manim -v WARNING --disable_caching CodeFromString\n",
    "class CodeFromString(Scene):\n",
    "    def construct(self):\n",
    "        code = '''from manim import Scene, Square\n",
    "\n",
    "class FadeInSquare(Scene):\n",
    "    def construct(self):\n",
    "        s = Square()\n",
    "        self.play(FadeIn(s))\n",
    "        self.play(s.animate.scale(2))\n",
    "        self.wait()\n",
    "'''      \n",
    "        rendered_code = Code(\n",
    "            code=code,\n",
    "            language=\"Python\",\n",
    "            font=\"Monospace\",\n",
    "            line_spacing=0.55,\n",
    "        )\n",
    "        rendered_code[0].set_z_index(-2)\n",
    "        \n",
    "        # There is no tab, that's why it works fine\n",
    "        rendered_code[2][2].add_background_rectangle(PINK, z_index=-1, opacity=0.3)\n",
    "\n",
    "        # Here we have 2 tabs, so skip them\n",
    "        highlight = SurroundingRectangle(rendered_code[2][4][2:], buff=0.05, stroke_width=1)    \n",
    "        \n",
    "        # Look at the content\n",
    "        print(rendered_code[2][4])   \n",
    "        for obj in rendered_code[2][4]:\n",
    "           print(obj)\n",
    "           self.play(FadeIn(obj), run_time=0.5)\n",
    "\n",
    "        self.add(rendered_code)\n",
    "        self.play(Create(highlight, run_time=3))\n",
    "        self.wait()\n",
    "        line = Underline(rendered_code[2][5], buff=0, stroke_width=1)\n",
    "        self.play(Create(line)) "
   ]
  },
  {
   "cell_type": "code",
   "execution_count": null,
   "metadata": {},
   "outputs": [],
   "source": [
    "\n"
   ]
  },
  {
   "cell_type": "code",
   "execution_count": null,
   "metadata": {},
   "outputs": [],
   "source": []
  }
 ],
 "metadata": {
  "kernelspec": {
   "display_name": "Python 3 (ipykernel)",
   "language": "python",
   "name": "python3"
  },
  "language_info": {
   "codemirror_mode": {
    "name": "ipython",
    "version": 3
   },
   "file_extension": ".py",
   "mimetype": "text/x-python",
   "name": "python",
   "nbconvert_exporter": "python",
   "pygments_lexer": "ipython3",
   "version": "3.10.12"
  },
  "vscode": {
   "interpreter": {
    "hash": "e7370f93d1d0cde622a1f8e1c04877d8463912d04d973331ad4851f04de6915a"
   }
  }
 },
 "nbformat": 4,
 "nbformat_minor": 2
}
