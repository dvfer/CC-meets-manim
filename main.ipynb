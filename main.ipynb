{
 "cells": [
  {
   "cell_type": "code",
   "execution_count": 8,
   "metadata": {},
   "outputs": [],
   "source": [
    "from manim import *\n"
   ]
  },
  {
   "cell_type": "code",
   "execution_count": 76,
   "metadata": {},
   "outputs": [
    {
     "name": "stderr",
     "output_type": "stream",
     "text": [
      "                                                                                                       \r"
     ]
    },
    {
     "data": {
      "text/html": [
       "<video src=\"media/jupyter/Biseccion@2022-12-19@17-38-35.mp4\" controls autoplay loop style=\"max-width: 60%;\"  >\n",
       "      Your browser does not support the <code>video</code> element.\n",
       "    </video>"
      ],
      "text/plain": [
       "<IPython.core.display.Video object>"
      ]
     },
     "metadata": {},
     "output_type": "display_data"
    }
   ],
   "source": [
    "%%manim -v WARNING --disable_caching Biseccion\n",
    "class Biseccion(Scene):\n",
    "    def construct(self):\n",
    "        title = Text(\"Método de la Bisección\", font_size=76)\n",
    "        text = Text(\"Algoritmo\")\n",
    "        text.next_to(title, UP, buff = 1.5)\n",
    "        ax = Axes(\n",
    "            x_range = [0, 2 * PI], \n",
    "            y_range = [-1, 1],\n",
    "            axis_config = {\"include_numbers\": True},\n",
    "            tips = False,\n",
    "            x_length = 6,\n",
    "            y_length = 4,\n",
    "            \n",
    "            )\n",
    "        graph = ax.plot(lambda x: np.sin(x), color=BLUE, x_range=[0, 2 * PI])\n",
    "        rendered_code = Code(\n",
    "            \"code/biseccion.py\",\n",
    "            tab_width=4,\n",
    "            background_stroke_width=1,\n",
    "            background_stroke_color=WHITE,\n",
    "            insert_line_no=True,\n",
    "            style=\"native\",\n",
    "            background=\"rectangle\",\n",
    "            language=\"Python\",\n",
    "            font = 'Monospace'\n",
    "        )\n",
    "        rendered_code.next_to(text, DOWN, buff = 0.9)\n",
    "        rendered_code.generate_target()\n",
    "        rendered_code.target.shift(4*LEFT).scale(0.7)\n",
    "        \n",
    "        func = Group(ax, graph)\n",
    "        func.shift(2.5*RIGHT + DOWN)\n",
    "\n",
    "\n",
    "\n",
    "\n",
    "        #----ANIMACION----- \n",
    "        self.play(Write(title))\n",
    "        self.wait()\n",
    "        self.play(Unwrite(title))\n",
    "        self.play(Write(text))\n",
    "        self.wait()\n",
    "        self.play(Create(rendered_code))\n",
    "        self.wait()\n",
    "        self.play(MoveToTarget(rendered_code))\n",
    "        self.wait()\n",
    "        self.play(Create(ax))\n",
    "        self.play(Create(graph))\n",
    "        self.wait()"
   ]
  },
  {
   "cell_type": "code",
   "execution_count": null,
   "metadata": {},
   "outputs": [],
   "source": []
  }
 ],
 "metadata": {
  "kernelspec": {
   "display_name": "Python 3",
   "language": "python",
   "name": "python3"
  },
  "language_info": {
   "codemirror_mode": {
    "name": "ipython",
    "version": 3
   },
   "file_extension": ".py",
   "mimetype": "text/x-python",
   "name": "python",
   "nbconvert_exporter": "python",
   "pygments_lexer": "ipython3",
   "version": "3.10.8"
  },
  "vscode": {
   "interpreter": {
    "hash": "e7370f93d1d0cde622a1f8e1c04877d8463912d04d973331ad4851f04de6915a"
   }
  }
 },
 "nbformat": 4,
 "nbformat_minor": 2
}
