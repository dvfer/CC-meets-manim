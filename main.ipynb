{
 "cells": [
  {
   "cell_type": "code",
   "execution_count": 2,
   "metadata": {},
   "outputs": [
    {
     "data": {
      "text/html": [
       "<pre style=\"white-space:pre;overflow-x:auto;line-height:normal;font-family:Menlo,'DejaVu Sans Mono',consolas,'Courier New',monospace\">Manim Community <span style=\"color: #008000; text-decoration-color: #008000\">v0.17.1</span>\n",
       "\n",
       "</pre>\n"
      ],
      "text/plain": [
       "Manim Community \u001b[32mv0.\u001b[0m\u001b[32m17.1\u001b[0m\n",
       "\n"
      ]
     },
     "metadata": {},
     "output_type": "display_data"
    }
   ],
   "source": [
    "from manim import *\n"
   ]
  },
  {
   "cell_type": "code",
   "execution_count": 14,
   "metadata": {},
   "outputs": [
    {
     "name": "stderr",
     "output_type": "stream",
     "text": [
      "                                                                                                 \r"
     ]
    },
    {
     "data": {
      "text/html": [
       "<video src=\"media/jupyter/Biseccion@2022-12-21@16-35-58.mp4\" controls autoplay loop style=\"max-width: 60%;\"  >\n",
       "      Your browser does not support the <code>video</code> element.\n",
       "    </video>"
      ],
      "text/plain": [
       "<IPython.core.display.Video object>"
      ]
     },
     "metadata": {},
     "output_type": "display_data"
    }
   ],
   "source": [
    "%%manim -v WARNING --disable_caching Biseccion\n",
    "class Biseccion(Scene):\n",
    "    def playAndWait(self, objeto):\n",
    "        self.play(objeto)\n",
    "        self.wait()\n",
    "\n",
    "    def construct(self):\n",
    "        FUNCION = lambda x: np.cos(x) - x\n",
    "        title = Text(\"Método de la Bisección\", font_size=76)\n",
    "        text = Text(\"Algoritmo\")\n",
    "        text.next_to(title, UP, buff = 1.5)\n",
    "        ax = Axes(\n",
    "            x_range = [0.0, 1.0 , 0.1],  # start ,  end , step\n",
    "            y_range = [-0.5, 1.0 , 0.5 ],\n",
    "            axis_config = {\"include_numbers\": True, \"font_size\" : 26},\n",
    "            tips = False,\n",
    "            x_length = 6,\n",
    "            y_length = 4,\n",
    "            \n",
    "            )\n",
    "        graph = ax.plot(FUNCION, color=BLUE, x_range=[0.0, 1.0])\n",
    "        rendered_code = Code(\n",
    "            \"code/biseccion.py\",\n",
    "            tab_width=4,\n",
    "            background_stroke_width=1,\n",
    "            background_stroke_color=WHITE,\n",
    "            # line_spacing = 0.8,\n",
    "            insert_line_no=True,\n",
    "            style=\"native\",\n",
    "            background=\"rectangle\",\n",
    "            language=\"Python\",\n",
    "            font = 'Monospace',\n",
    "            line_spacing=0.55,\n",
    "        )\n",
    "        pointer = Arrow(start=LEFT, end=RIGHT, buff = 0.1,max_tip_length_to_length_ratio=0.1, color = PINK).scale(0.01)\n",
    "\n",
    "        rendered_code.next_to(text, DOWN, buff = 0.9)\n",
    "        rendered_code.generate_target()\n",
    "        rendered_code.target.shift(4*LEFT).scale(0.7)\n",
    "\n",
    "        func = Group(ax, graph)\n",
    "        func.shift(2.5*RIGHT + DOWN)\n",
    "\n",
    "        a = MathTex(r\"a = 0\")\n",
    "        b = MathTex(r\"b = 1\")\n",
    "        c = MathTex(r\"c = \\frac{(a + b)}{2}\")\n",
    "        variables = VGroup(a,b,c)\n",
    "        variables.arrange(RIGHT)\n",
    "        variables.next_to(rendered_code)\n",
    "        #rendered_code[0].set_z_index(-2)\n",
    "        #----ANIMACION----- \n",
    "        #----Comentar para debuggear mas rapido----\n",
    "        # self.playAndWait(Write(title)) ## para que quede un poco mas clean la idea es usar la funcion q definí.\n",
    "        # self.play(Unwrite(title))\n",
    "        # self.play(Write(text))\n",
    "        self.wait()\n",
    "        self.play(Create(rendered_code))\n",
    "        self.wait()\n",
    "        self.play(MoveToTarget(rendered_code))\n",
    "        self.wait()\n",
    "        self.play(Create(ax))\n",
    "        self.play(Create(graph))\n",
    "        self.wait()\n",
    "        # for i in range(1,10):\n",
    "        #     pointer.next_to(rendered_code[2][i],LEFT)\n",
    "        #     #self.add(rendered_code[2][i][2:].add_background_rectangle(PINK, z_index=-1, opacity=0.3)) # OJO con los rectangulos hay q tener ojo ya que en cada linea hay caracteres que no se ven y por eso el rectangulo solapa la linea superior.\n",
    "        #     self.add(pointer.shift(0.05*DOWN))\n",
    "        #     self.wait()\n",
    "        #     self.remove(pointer)\n",
    "        self.add(variables)\n",
    "        self.wait()"
   ]
  },
  {
   "cell_type": "code",
   "execution_count": 6,
   "metadata": {},
   "outputs": [
    {
     "name": "stdout",
     "output_type": "stream",
     "text": [
      "VGroup of 14 submobjects\n",
      "Dot\n"
     ]
    },
    {
     "name": "stderr",
     "output_type": "stream",
     "text": [
      "                                                                         \r"
     ]
    },
    {
     "name": "stdout",
     "output_type": "stream",
     "text": [
      "Dot\n"
     ]
    },
    {
     "name": "stderr",
     "output_type": "stream",
     "text": [
      "                                                                         \r"
     ]
    },
    {
     "name": "stdout",
     "output_type": "stream",
     "text": [
      "VMobjectFromSVGPath\n"
     ]
    },
    {
     "name": "stderr",
     "output_type": "stream",
     "text": [
      "                                                                                         \r"
     ]
    },
    {
     "name": "stdout",
     "output_type": "stream",
     "text": [
      "Dot\n"
     ]
    },
    {
     "name": "stderr",
     "output_type": "stream",
     "text": [
      "                                                                         \r"
     ]
    },
    {
     "name": "stdout",
     "output_type": "stream",
     "text": [
      "VMobjectFromSVGPath\n"
     ]
    },
    {
     "name": "stderr",
     "output_type": "stream",
     "text": [
      "                                                                                         \r"
     ]
    },
    {
     "name": "stdout",
     "output_type": "stream",
     "text": [
      "Dot\n"
     ]
    },
    {
     "name": "stderr",
     "output_type": "stream",
     "text": [
      "                                                                         \r"
     ]
    },
    {
     "name": "stdout",
     "output_type": "stream",
     "text": [
      "VMobjectFromSVGPath\n"
     ]
    },
    {
     "name": "stderr",
     "output_type": "stream",
     "text": [
      "                                                                                         \r"
     ]
    },
    {
     "name": "stdout",
     "output_type": "stream",
     "text": [
      "VMobjectFromSVGPath\n"
     ]
    },
    {
     "name": "stderr",
     "output_type": "stream",
     "text": [
      "                                                                                         \r"
     ]
    },
    {
     "name": "stdout",
     "output_type": "stream",
     "text": [
      "VMobjectFromSVGPath\n"
     ]
    },
    {
     "name": "stderr",
     "output_type": "stream",
     "text": [
      "                                                                                         \r"
     ]
    },
    {
     "name": "stdout",
     "output_type": "stream",
     "text": [
      "VMobjectFromSVGPath\n"
     ]
    },
    {
     "name": "stderr",
     "output_type": "stream",
     "text": [
      "                                                                                         \r"
     ]
    },
    {
     "name": "stdout",
     "output_type": "stream",
     "text": [
      "VMobjectFromSVGPath\n"
     ]
    },
    {
     "name": "stderr",
     "output_type": "stream",
     "text": [
      "                                                                                          \r"
     ]
    },
    {
     "name": "stdout",
     "output_type": "stream",
     "text": [
      "VMobjectFromSVGPath\n"
     ]
    },
    {
     "name": "stderr",
     "output_type": "stream",
     "text": [
      "                                                                                          \r"
     ]
    },
    {
     "name": "stdout",
     "output_type": "stream",
     "text": [
      "VMobjectFromSVGPath\n"
     ]
    },
    {
     "name": "stderr",
     "output_type": "stream",
     "text": [
      "                                                                                          \r"
     ]
    },
    {
     "name": "stdout",
     "output_type": "stream",
     "text": [
      "VMobjectFromSVGPath\n"
     ]
    },
    {
     "name": "stderr",
     "output_type": "stream",
     "text": [
      "                                                                                             \r"
     ]
    },
    {
     "data": {
      "text/html": [
       "<video src=\"media/jupyter/CodeFromString@2022-12-21@15-15-42.mp4\" controls autoplay loop style=\"max-width: 60%;\"  >\n",
       "      Your browser does not support the <code>video</code> element.\n",
       "    </video>"
      ],
      "text/plain": [
       "<IPython.core.display.Video object>"
      ]
     },
     "metadata": {},
     "output_type": "display_data"
    }
   ],
   "source": [
    "%%manim -v WARNING --disable_caching CodeFromString\n",
    "class CodeFromString(Scene):\n",
    "    def construct(self):\n",
    "        code = '''from manim import Scene, Square\n",
    "\n",
    "class FadeInSquare(Scene):\n",
    "    def construct(self):\n",
    "        s = Square()\n",
    "        self.play(FadeIn(s))\n",
    "        self.play(s.animate.scale(2))\n",
    "        self.wait()\n",
    "'''      \n",
    "        rendered_code = Code(\n",
    "            code=code,\n",
    "            language=\"Python\",\n",
    "            font=\"Monospace\",\n",
    "            line_spacing=0.55,\n",
    "        )\n",
    "        rendered_code[0].set_z_index(-2)\n",
    "        \n",
    "        # There is no tab, that's why it works fine\n",
    "        rendered_code[2][2].add_background_rectangle(PINK, z_index=-1, opacity=0.3)\n",
    "\n",
    "        # Here we have 2 tabs, so skip them\n",
    "        highlight = SurroundingRectangle(rendered_code[2][4][2:], buff=0.05, stroke_width=1)    \n",
    "        \n",
    "        # Look at the content\n",
    "        print(rendered_code[2][4])   \n",
    "        for obj in rendered_code[2][4]:\n",
    "           print(obj)\n",
    "           self.play(FadeIn(obj), run_time=0.5)\n",
    "\n",
    "        self.add(rendered_code)\n",
    "        self.play(Create(highlight, run_time=3))\n",
    "        self.wait()\n",
    "        line = Underline(rendered_code[2][5], buff=0, stroke_width=1)\n",
    "        self.play(Create(line)) "
   ]
  },
  {
   "cell_type": "code",
   "execution_count": null,
   "metadata": {},
   "outputs": [],
   "source": []
  }
 ],
 "metadata": {
  "kernelspec": {
   "display_name": "Python 3",
   "language": "python",
   "name": "python3"
  },
  "language_info": {
   "codemirror_mode": {
    "name": "ipython",
    "version": 3
   },
   "file_extension": ".py",
   "mimetype": "text/x-python",
   "name": "python",
   "nbconvert_exporter": "python",
   "pygments_lexer": "ipython3",
   "version": "3.10.8"
  },
  "vscode": {
   "interpreter": {
    "hash": "e7370f93d1d0cde622a1f8e1c04877d8463912d04d973331ad4851f04de6915a"
   }
  }
 },
 "nbformat": 4,
 "nbformat_minor": 2
}
