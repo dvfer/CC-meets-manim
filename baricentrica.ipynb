{
 "cells": [
  {
   "cell_type": "code",
   "execution_count": 2,
   "id": "f381358d",
   "metadata": {},
   "outputs": [
    {
     "data": {
      "text/html": [
       "<pre style=\"white-space:pre;overflow-x:auto;line-height:normal;font-family:Menlo,'DejaVu Sans Mono',consolas,'Courier New',monospace\">Manim Community <span style=\"color: #008000\">v0.17.3</span>\n",
       "\n",
       "</pre>\n"
      ],
      "text/plain": [
       "<rich.jupyter.JupyterRenderable at 0x7f30199bd000>"
      ]
     },
     "metadata": {},
     "output_type": "display_data"
    }
   ],
   "source": [
    "from manim import *"
   ]
  },
  {
   "cell_type": "code",
   "execution_count": 4,
   "id": "3954c140",
   "metadata": {},
   "outputs": [
    {
     "name": "stderr",
     "output_type": "stream",
     "text": [
      "                                                                                                                        \r"
     ]
    },
    {
     "data": {
      "text/html": [
       "<video src=\"media/jupyter/LagrangeVsBaricentrica@2023-05-13@09-19-47.mp4\" controls autoplay loop style=\"max-width: 60%;\"  >\n",
       "      Your browser does not support the <code>video</code> element.\n",
       "    </video>"
      ],
      "text/plain": [
       "<IPython.core.display.Video object>"
      ]
     },
     "metadata": {},
     "output_type": "display_data"
    }
   ],
   "source": [
    "%%manim -ql -v WARNING LagrangeVsBaricentrica\n",
    "class LagrangeVsBaricentrica(Scene):\n",
    "    def construct(self):\n",
    "        # Definir las partes de la fórmula\n",
    "        prefix = MathTex(r\"p(x) = \\sum_{i=1}^{n}y_i\")\n",
    "        term = MathTex(r\"L_i(x)\")\n",
    "\n",
    "        # Alinear las partes de la fórmula\n",
    "        formula = VGroup(prefix, term)\n",
    "        formula.arrange(RIGHT)\n",
    "       \n",
    "        transformed_term = MathTex(r\"\\frac{l_i(x)}{l_i(x_i)}\").move_to(term)\n",
    "        numerator, denominator = transformed_term[0][:5], transformed_term[0][6:12]\n",
    "        # Crear la animación\n",
    "        self.play(Write(formula))\n",
    "        self.wait(2)\n",
    "\n",
    "        # Transformar el término\n",
    "        self.play(ReplacementTransform(term, transformed_term))\n",
    "        \n",
    "        self.wait(2)\n",
    "       \n",
    "        formula.add(transformed_term)\n",
    "        \n",
    "        # Mover la formula al borde izquierdo\n",
    "        self.play(ApplyMethod(formula.to_edge, LEFT))\n",
    "        self.wait(2)\n",
    "\n",
    "        # Destacar el denominador\n",
    "        self.play(denominator.animate.set_color(GREEN), numerator.animate.set_color(RED))\n",
    "        self.wait(2)\n",
    "\n",
    "        # Crear una copia del denominador y moverlo al centro de la pantalla\n",
    "        denominator_copy = denominator.copy().move_to(ORIGIN + UP*2.5 + LEFT)\n",
    "        self.play(ReplacementTransform(denominator.copy(), denominator_copy))\n",
    "        self.play(denominator_copy.animate)\n",
    "        self.wait(2)\n",
    "        \n",
    "        product = MathTex(r\"= \\prod_{k=1,i\\neq k}^{n}(x_i - x_k)\").scale(0.7).next_to(denominator_copy,RIGHT)\n",
    "        self.play(Write(product))\n",
    "        self.play(Indicate(denominator_copy[3:5]),Indicate(product[0][12:14],1.5))\n",
    "        self.wait(2)\n",
    "        \n",
    "        text_denominator = Text(\"Al depender exclusivamente de los puntos interpoladores \\nse puede pre-calcular.\", font_size=18).move_to(product.get_right()+DOWN+LEFT*0.5)\n",
    "        \n",
    "        self.play(Write(text_denominator))\n",
    "        # Destacado a la mala\n",
    "        self.play(Circumscribe(text_denominator[56:67]),text_denominator[56:68].animate.set_color(GREEN))\n",
    "        self.wait(2)\n",
    "        \n",
    "        # Crear una copia del numerador y moverlo al centro de la pantalla\n",
    "        numerator_copy = numerator.copy().move_to(ORIGIN + DOWN + LEFT)\n",
    "        self.play(ReplacementTransform( numerator.copy(), numerator_copy))\n",
    "        self.play(denominator_copy.animate)\n",
    "        self.wait(2)\n",
    "        product_numerator = MathTex(r\"= \\prod_{k=1,i\\neq k}^{n}(x - x_k)\").scale(0.7).next_to(numerator_copy,RIGHT)\n",
    "        self.play(Write(product_numerator))\n",
    "        text_numerator = Text(\"Se debe evaluar cada vez que evaluemos el polinomio\\ninterpolador p(x)\", font_size = 18).move_to(product_numerator.get_right()+DOWN + LEFT*0.5)\n",
    "        \n",
    "        self.play(Write(text_numerator))\n",
    "        self.play(Circumscribe(text_numerator[6:20],),text_numerator[6:20].animate.set_color(RED))\n",
    "        \n",
    "        self.wait(5)\n",
    "        group = VGroup(denominator_copy,product,text_denominator,numerator_copy,product_numerator,text_numerator)\n",
    "        self.play(Unwrite(group))\n",
    "        self.wait(2)\n",
    "        \n",
    "        ### EJEMPLO\n",
    "        ex_text = Text(\"Ejemplo\", font_size=24).next_to(numerator, UP + RIGHT).to_edge(UP)\n",
    "        self.play(Write(ex_text))\n",
    "        \n",
    "        \n",
    "        \n",
    "        \n",
    "        \n",
    "        \n",
    "        \n",
    "        \n",
    "        \n",
    "        \n",
    "        \n",
    "        \n",
    "        \n",
    "        \n",
    "        \n",
    "        \n",
    "        \n",
    "        \n",
    "        self.wait(3)\n",
    "        \n",
    "        "
   ]
  },
  {
   "cell_type": "code",
   "execution_count": null,
   "id": "312646dc",
   "metadata": {},
   "outputs": [],
   "source": []
  }
 ],
 "metadata": {
  "kernelspec": {
   "display_name": "Python 3 (ipykernel)",
   "language": "python",
   "name": "python3"
  },
  "language_info": {
   "codemirror_mode": {
    "name": "ipython",
    "version": 3
   },
   "file_extension": ".py",
   "mimetype": "text/x-python",
   "name": "python",
   "nbconvert_exporter": "python",
   "pygments_lexer": "ipython3",
   "version": "3.10.6"
  }
 },
 "nbformat": 4,
 "nbformat_minor": 5
}
